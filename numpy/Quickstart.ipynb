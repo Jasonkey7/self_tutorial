{
 "cells": [
  {
   "cell_type": "markdown",
   "metadata": {},
   "source": [
    "### 基本概念\n",
    "Numpy 的核心是连续的多维数组。  \n",
    "Numpy中的数组叫做```np.ndarray```，也可以使用别名```np.array```。  \n",
    "但这里的np.array与Python标准库中的array.array是不同的。\n",
    "下列是几个```ndarray```中的重要属性：  \n",
    "\n",
    "**ndarray.ndim**  \n",
    "　　数组的维数。  \n",
    "**ndarray.shape**  \n",
    "　　数组的形状。  \n",
    "**ndarray.size**  \n",
    "　　数组的元素个数。  \n",
    "**ndarray.dtype**  \n",
    "　　数组的元素类型。  \n",
    "  \n",
    "例子：  "
   ]
  },
  {
   "cell_type": "code",
   "execution_count": 10,
   "metadata": {
    "ExecuteTime": {
     "end_time": "2018-01-06T07:58:56.098681Z",
     "start_time": "2018-01-06T07:58:56.089689Z"
    }
   },
   "outputs": [
    {
     "name": "stdout",
     "output_type": "stream",
     "text": [
      "[[ 0  1  2  3  4]\n",
      " [ 5  6  7  8  9]\n",
      " [10 11 12 13 14]]\n",
      "(3, 5)\n",
      "2\n",
      "15\n",
      "int32\n"
     ]
    }
   ],
   "source": [
    "import numpy as np\n",
    "data=np.arange(15).reshape(3,5)\n",
    "print(data)\n",
    "print(data.shape)\n",
    "print(data.ndim)\n",
    "print(data.size)\n",
    "print(data.dtype.name)"
   ]
  },
  {
   "cell_type": "markdown",
   "metadata": {},
   "source": [
    "#### 数组的创建\n",
    "创建数组有多种方式。你可以使用```np.array```直接用Python的元组和列表来创建。"
   ]
  },
  {
   "cell_type": "code",
   "execution_count": 11,
   "metadata": {
    "ExecuteTime": {
     "end_time": "2018-01-06T08:04:37.032155Z",
     "start_time": "2018-01-06T08:04:37.016135Z"
    }
   },
   "outputs": [
    {
     "name": "stdout",
     "output_type": "stream",
     "text": [
      "int32\n",
      "float64\n",
      "[[ 1.   2.   3. ]\n",
      " [ 4.5  5.   6. ]]\n",
      "[[ 1.+0.j  2.+0.j]\n",
      " [ 3.+0.j  4.+0.j]]\n"
     ]
    }
   ],
   "source": [
    "import numpy as np\n",
    "a=np.array([1,2,3])\n",
    "print(a.dtype)\n",
    "b=np.array([1.1,2.2,3.3])\n",
    "print(b.dtype)\n",
    "c=np.array([(1,2,3),(4.5,5,6)]) #创建二维数组\n",
    "print(c)\n",
    "d=np.array([(1,2),(3,4)],dtype=complex) #数组的类型可以在创建时显式声明\n",
    "print(d)"
   ]
  },
  {
   "cell_type": "markdown",
   "metadata": {},
   "source": [
    "通常，数组的元素的未知的，但是形状确实已知的。所以NumPy提供了多种创建空数组的方法。  \n",
    "```np.zeros``` 创建全是0的数组。  \n",
    "```np.ones``` 创建全是1的数组。  \n",
    "```np.empty``` 创建初始值是随机数的数组。  \n",
    "需要注意的是上述方法创建的数组元素的类型是 ```float64```"
   ]
  },
  {
   "cell_type": "code",
   "execution_count": 9,
   "metadata": {
    "ExecuteTime": {
     "end_time": "2018-01-04T07:47:12.532779Z",
     "start_time": "2018-01-04T07:47:12.519745Z"
    }
   },
   "outputs": [
    {
     "name": "stdout",
     "output_type": "stream",
     "text": [
      "[[ 0.  0.  0.  0.]\n",
      " [ 0.  0.  0.  0.]\n",
      " [ 0.  0.  0.  0.]]\n",
      "[[[1 1 1 1]\n",
      "  [1 1 1 1]\n",
      "  [1 1 1 1]]\n",
      "\n",
      " [[1 1 1 1]\n",
      "  [1 1 1 1]\n",
      "  [1 1 1 1]]]\n",
      "[[ 1.   2.   3. ]\n",
      " [ 4.5  5.   6. ]]\n"
     ]
    }
   ],
   "source": [
    "e=np.zeros((3,4))\n",
    "print(e)\n",
    "f=np.ones((2,3,4),dtype=np.int16)#可以更改数据类型\n",
    "print(f)\n",
    "g=np.empty((2,3))\n",
    "print(g)"
   ]
  },
  {
   "cell_type": "markdown",
   "metadata": {},
   "source": [
    "为了创建列表，NumPy提供了和 ```range``` 类似的函数。  \n",
    "```np.arange(start,end,step)```"
   ]
  },
  {
   "cell_type": "code",
   "execution_count": 10,
   "metadata": {
    "ExecuteTime": {
     "end_time": "2018-01-04T07:50:45.310490Z",
     "start_time": "2018-01-04T07:50:45.304476Z"
    }
   },
   "outputs": [
    {
     "name": "stdout",
     "output_type": "stream",
     "text": [
      "[10 15 20 25]\n",
      "[ 0.   0.3  0.6  0.9  1.2  1.5  1.8]\n"
     ]
    }
   ],
   "source": [
    "a=np.arange(10,30,5)\n",
    "print(a)\n",
    "b=np.arange(0,2,0.3)#同样可以接收浮点数\n",
    "print(b)"
   ]
  },
  {
   "cell_type": "markdown",
   "metadata": {},
   "source": [
    "在生成浮点数列表时，最好不要使用```np.arange```，而是使用```np.linspace```。  \n",
    "```np.linspace(start,stop,num)```"
   ]
  },
  {
   "cell_type": "code",
   "execution_count": 11,
   "metadata": {
    "ExecuteTime": {
     "end_time": "2018-01-04T07:51:51.223742Z",
     "start_time": "2018-01-04T07:51:51.208704Z"
    }
   },
   "outputs": [
    {
     "data": {
      "text/plain": [
       "array([ 0.  ,  0.25,  0.5 ,  0.75,  1.  ,  1.25,  1.5 ,  1.75,  2.  ])"
      ]
     },
     "execution_count": 11,
     "metadata": {},
     "output_type": "execute_result"
    }
   ],
   "source": [
    "np.linspace(0,2,9)"
   ]
  },
  {
   "cell_type": "markdown",
   "metadata": {
    "ExecuteTime": {
     "end_time": "2018-01-06T08:16:41.728753Z",
     "start_time": "2018-01-06T08:16:41.719703Z"
    }
   },
   "source": [
    "#### 打印数组\n",
    "当你打印一个数组时，NumPy显示数组的方式和嵌套的列表类似，但是会遵循以下布局：\n",
    " - 最后一维从左到右显示\n",
    " - 第二维到最后一维从上到下显示\n",
    " - 剩下的同样从上到下显示，以空行分隔\n",
    " \n",
    "一维数组显示成一行，二维数组显示成矩阵，三维数组显示成矩阵的列表。\n",
    "    "
   ]
  },
  {
   "cell_type": "code",
   "execution_count": 12,
   "metadata": {
    "ExecuteTime": {
     "end_time": "2018-01-04T07:52:41.902402Z",
     "start_time": "2018-01-04T07:52:41.894381Z"
    }
   },
   "outputs": [
    {
     "name": "stdout",
     "output_type": "stream",
     "text": [
      "[0 1 2 3 4 5]\n",
      "[[ 0  1  2]\n",
      " [ 3  4  5]\n",
      " [ 6  7  8]\n",
      " [ 9 10 11]]\n",
      "[[[ 0  1  2  3]\n",
      "  [ 4  5  6  7]\n",
      "  [ 8  9 10 11]]\n",
      "\n",
      " [[12 13 14 15]\n",
      "  [16 17 18 19]\n",
      "  [20 21 22 23]]]\n"
     ]
    }
   ],
   "source": [
    "a=np.arange(6)\n",
    "print(a)\n",
    "b=np.arange(12).reshape(4,3)\n",
    "print(b)\n",
    "c=np.arange(24).reshape(2,3,4)\n",
    "print(c)"
   ]
  },
  {
   "cell_type": "markdown",
   "metadata": {
    "ExecuteTime": {
     "end_time": "2018-01-06T08:20:26.779079Z",
     "start_time": "2018-01-06T08:20:26.773063Z"
    }
   },
   "source": [
    "当一个数组元素太多，不方便显示时，NumPy会自动数组的中间部分，只显示边角的数据。"
   ]
  },
  {
   "cell_type": "code",
   "execution_count": 13,
   "metadata": {
    "ExecuteTime": {
     "end_time": "2018-01-04T07:53:13.805930Z",
     "start_time": "2018-01-04T07:53:13.800918Z"
    }
   },
   "outputs": [
    {
     "name": "stdout",
     "output_type": "stream",
     "text": [
      "[   0    1    2 ..., 9997 9998 9999]\n"
     ]
    }
   ],
   "source": [
    "print(np.arange(10000))"
   ]
  },
  {
   "cell_type": "markdown",
   "metadata": {},
   "source": [
    "#### 基本操作\n",
    "数组的算数计算是在元素层级运算的。计算结果会存在一个新创建的数组中。"
   ]
  },
  {
   "cell_type": "code",
   "execution_count": 1,
   "metadata": {
    "ExecuteTime": {
     "end_time": "2018-01-04T07:56:09.999927Z",
     "start_time": "2018-01-04T07:56:09.910661Z"
    }
   },
   "outputs": [
    {
     "name": "stdout",
     "output_type": "stream",
     "text": [
      "[0 1 2 3]\n",
      "[20 29 38 47]\n",
      "[0 1 4 9]\n",
      "[ 9.12945251 -9.88031624  7.4511316  -2.62374854]\n",
      "[ True  True False False]\n"
     ]
    }
   ],
   "source": [
    "import numpy as np\n",
    "a=np.array([20,30,40,50])\n",
    "b=np.arange(4)\n",
    "print(b)\n",
    "c=a-b\n",
    "print(c)\n",
    "print(b**2)\n",
    "print(10*np.sin(a))\n",
    "print(a<35)"
   ]
  },
  {
   "cell_type": "markdown",
   "metadata": {},
   "source": [
    "在NumPy中```*```号仍然表示乘法，矩阵乘积用```np.dot```来计算。"
   ]
  },
  {
   "cell_type": "code",
   "execution_count": 14,
   "metadata": {
    "ExecuteTime": {
     "end_time": "2018-01-06T08:22:54.207485Z",
     "start_time": "2018-01-06T08:22:54.197459Z"
    }
   },
   "outputs": [
    {
     "name": "stdout",
     "output_type": "stream",
     "text": [
      "[[2 0]\n",
      " [0 4]]\n",
      "[[5 4]\n",
      " [3 4]]\n",
      "[[5 4]\n",
      " [3 4]]\n"
     ]
    }
   ],
   "source": [
    "A=np.array([(1,1),(0,1)])\n",
    "B=np.array([(2,0),(3,4)])\n",
    "print(A*B)\n",
    "print(A.dot(B))\n",
    "print(np.dot(A,B))"
   ]
  },
  {
   "cell_type": "markdown",
   "metadata": {},
   "source": [
    "类似于```+=```和```*=```的运算是直接在现有数组上计算的，没有创建新的数组。Numpy中的计算同样也是向上转型的，可以简单理解成浮点数和整数运算的结果是浮点数。"
   ]
  },
  {
   "cell_type": "code",
   "execution_count": 20,
   "metadata": {
    "ExecuteTime": {
     "end_time": "2018-01-06T08:27:37.927881Z",
     "start_time": "2018-01-06T08:27:37.917824Z"
    }
   },
   "outputs": [
    {
     "name": "stdout",
     "output_type": "stream",
     "text": [
      "[[3 3 3]\n",
      " [3 3 3]]\n",
      "[[ 3.87773354  3.29818069  3.15185141]\n",
      " [ 3.50104791  3.33250152  3.18660189]]\n"
     ]
    }
   ],
   "source": [
    "a = np.ones((2,3), dtype=int)\n",
    "b = np.random.random((2,3))\n",
    "a*=3\n",
    "print(a)\n",
    "b += a\n",
    "print(b)\n",
    "# a += b                  # 浮点数不会自动转换成整数"
   ]
  },
  {
   "cell_type": "markdown",
   "metadata": {},
   "source": [
    "```np.ndarray```提供了许多一元操作。比如数组求和、求最大最小值等。"
   ]
  },
  {
   "cell_type": "code",
   "execution_count": 3,
   "metadata": {
    "ExecuteTime": {
     "end_time": "2018-01-04T08:00:48.490382Z",
     "start_time": "2018-01-04T08:00:48.482363Z"
    }
   },
   "outputs": [
    {
     "name": "stdout",
     "output_type": "stream",
     "text": [
      "[[ 0.42337944  0.6090745   0.77043582]\n",
      " [ 0.08310096  0.67137503  0.07509765]]\n",
      "2.6324633982\n",
      "0.4387438997\n",
      "0.770435824498\n",
      "0.0750976491123\n"
     ]
    }
   ],
   "source": [
    "a=np.random.random((2,3))\n",
    "print(a)\n",
    "print(a.sum())\n",
    "print(a.mean())\n",
    "print(a.max())\n",
    "print(a.min())"
   ]
  },
  {
   "cell_type": "markdown",
   "metadata": {},
   "source": [
    "默认的，这些一元操作是对整个数组进行计算，没有考虑到数组的形状。你可以设置```axis```参数来指定运算方向。```axis```表示第n维（从0开始）。"
   ]
  },
  {
   "cell_type": "code",
   "execution_count": 24,
   "metadata": {
    "ExecuteTime": {
     "end_time": "2018-01-06T08:34:24.485958Z",
     "start_time": "2018-01-06T08:34:24.476922Z"
    }
   },
   "outputs": [
    {
     "name": "stdout",
     "output_type": "stream",
     "text": [
      "[[ 0  1  2  3]\n",
      " [ 4  5  6  7]\n",
      " [ 8  9 10 11]]\n",
      "[12 15 18 21]\n",
      "[ 6 22 38]\n",
      "[0 4 8]\n",
      "[[ 0  1  3  6]\n",
      " [ 4  9 15 22]\n",
      " [ 8 17 27 38]]\n"
     ]
    }
   ],
   "source": [
    "b=np.arange(12).reshape(3,4)\n",
    "print(b)\n",
    "print(b.sum(axis=0)) #对第0维的元素求和\n",
    "print(b.sum(axis=1)) #对第1维的元素求和\n",
    "print(b.min(axis=1))\n",
    "print(b.cumsum(axis=1)) #对第1维的元素累加求和"
   ]
  },
  {
   "cell_type": "markdown",
   "metadata": {
    "ExecuteTime": {
     "end_time": "2018-01-06T08:36:59.436308Z",
     "start_time": "2018-01-06T08:36:59.431294Z"
    }
   },
   "source": [
    "#### 广播函数\n",
    "NumPy提供了熟知的数学方法，如：sin、cos、exp等。在NumPy中，这些方法被称作广播函数。这些函数会对数组中的每个元素进行计算，返回计算后的数组。"
   ]
  },
  {
   "cell_type": "code",
   "execution_count": 8,
   "metadata": {
    "ExecuteTime": {
     "end_time": "2018-01-04T08:21:41.393951Z",
     "start_time": "2018-01-04T08:21:41.383920Z"
    }
   },
   "outputs": [
    {
     "name": "stdout",
     "output_type": "stream",
     "text": [
      "[0 1 2]\n",
      "[ 1.          2.71828183  7.3890561 ]\n",
      "[ 0.          1.          1.41421356]\n",
      "[2 0 6]\n",
      "[2 0 6]\n"
     ]
    }
   ],
   "source": [
    "B=np.arange(3)\n",
    "print(B)\n",
    "print(np.exp(B))\n",
    "print(np.sqrt(B))\n",
    "C=np.array([2,-1,4])\n",
    "print(np.add(B,C))\n",
    "print(B+C)\n"
   ]
  },
  {
   "cell_type": "markdown",
   "metadata": {
    "ExecuteTime": {
     "end_time": "2018-01-06T08:38:28.434285Z",
     "start_time": "2018-01-06T08:38:28.428279Z"
    }
   },
   "source": [
    "#### 索引、切片和迭代\n",
    "一维数组可以被索引、切片和迭代，就和Python中的列表一样。"
   ]
  },
  {
   "cell_type": "code",
   "execution_count": 29,
   "metadata": {
    "ExecuteTime": {
     "end_time": "2018-01-06T08:39:29.155793Z",
     "start_time": "2018-01-06T08:39:29.144761Z"
    },
    "scrolled": true
   },
   "outputs": [
    {
     "name": "stdout",
     "output_type": "stream",
     "text": [
      "[  0   1   8  27  64 125 216 343 512 729]\n",
      "8\n",
      "[ 8 27 64]\n",
      "[-1000     1 -1000    27 -1000   125   216   343   512   729]\n",
      "[  729   512   343   216   125 -1000    27 -1000     1 -1000]\n",
      "-1000\n",
      "1\n",
      "-1000\n",
      "27\n",
      "-1000\n",
      "125\n",
      "216\n",
      "343\n",
      "512\n",
      "729\n"
     ]
    }
   ],
   "source": [
    "a=np.arange(10)**3\n",
    "print(a)\n",
    "print(a[2])\n",
    "print(a[2:5])\n",
    "a[:6:2]=-1000\n",
    "print(a)\n",
    "print(a[::-1])\n",
    "for i in a:\n",
    "    print(i)"
   ]
  },
  {
   "cell_type": "markdown",
   "metadata": {
    "ExecuteTime": {
     "end_time": "2018-01-06T08:41:33.786671Z",
     "start_time": "2018-01-06T08:41:33.782690Z"
    }
   },
   "source": [
    "多维数组可以在每一个维度有一个索引，这些索引构成元组来进行访问。"
   ]
  },
  {
   "cell_type": "code",
   "execution_count": 32,
   "metadata": {
    "ExecuteTime": {
     "end_time": "2018-01-06T08:42:43.567583Z",
     "start_time": "2018-01-06T08:42:43.556557Z"
    }
   },
   "outputs": [
    {
     "name": "stdout",
     "output_type": "stream",
     "text": [
      "[[ 0  1  2  3]\n",
      " [10 11 12 13]\n",
      " [20 21 22 23]\n",
      " [30 31 32 33]\n",
      " [40 41 42 43]]\n",
      "23\n",
      "[ 1 11 21 31 41]\n",
      "[ 1 11 21 31 41]\n",
      "[[10 11 12 13]\n",
      " [20 21 22 23]]\n"
     ]
    }
   ],
   "source": [
    "def f(x,y):return 10*x+y\n",
    "b=np.fromfunction(f,(5,4),dtype=int)\n",
    "print(b)\n",
    "print(b[2,3])\n",
    "print(b[0:5,1])\n",
    "print(b[:,1])\n",
    "print(b[1:3,:])\n"
   ]
  },
  {
   "cell_type": "markdown",
   "metadata": {},
   "source": [
    "```...```表示对索引的省略。如下所示："
   ]
  },
  {
   "cell_type": "code",
   "execution_count": 35,
   "metadata": {
    "ExecuteTime": {
     "end_time": "2018-01-06T08:45:11.754528Z",
     "start_time": "2018-01-06T08:45:11.744499Z"
    }
   },
   "outputs": [
    {
     "name": "stdout",
     "output_type": "stream",
     "text": [
      "(2, 2, 3)\n",
      "[[100 101 102]\n",
      " [110 112 113]]\n",
      "[[  2  13]\n",
      " [102 113]]\n"
     ]
    }
   ],
   "source": [
    "c = np.array( [[[  0,  1,  2],               # 三维数组\n",
    "                [ 10, 12, 13]],\n",
    "               [[100,101,102],\n",
    "                [110,112,113]]])\n",
    "print(c.shape)\n",
    "print(c[1,...])                                   # 和 c[1,:,:] 、 c[1]效果相同\n",
    "print(c[...,2])                                   # 和c[:,:,2]效果相同\n"
   ]
  },
  {
   "cell_type": "code",
   "execution_count": null,
   "metadata": {},
   "outputs": [],
   "source": [
    "对多维数组的迭代是在第一维进行迭代的。"
   ]
  },
  {
   "cell_type": "code",
   "execution_count": 36,
   "metadata": {
    "ExecuteTime": {
     "end_time": "2018-01-06T08:46:11.714599Z",
     "start_time": "2018-01-06T08:46:11.709555Z"
    }
   },
   "outputs": [
    {
     "name": "stdout",
     "output_type": "stream",
     "text": [
      "[0 1 2 3]\n",
      "[10 11 12 13]\n",
      "[20 21 22 23]\n",
      "[30 31 32 33]\n",
      "[40 41 42 43]\n"
     ]
    }
   ],
   "source": [
    "for row in b:\n",
    "    print(row)"
   ]
  },
  {
   "cell_type": "markdown",
   "metadata": {},
   "source": [
    "如果需要遍历多维数组的所有元素，可以使用```flat```这个属性。"
   ]
  },
  {
   "cell_type": "code",
   "execution_count": 37,
   "metadata": {
    "ExecuteTime": {
     "end_time": "2018-01-06T08:47:01.244287Z",
     "start_time": "2018-01-06T08:47:01.236265Z"
    },
    "scrolled": true
   },
   "outputs": [
    {
     "name": "stdout",
     "output_type": "stream",
     "text": [
      "0\n",
      "1\n",
      "2\n",
      "3\n",
      "10\n",
      "11\n",
      "12\n",
      "13\n",
      "20\n",
      "21\n",
      "22\n",
      "23\n",
      "30\n",
      "31\n",
      "32\n",
      "33\n",
      "40\n",
      "41\n",
      "42\n",
      "43\n"
     ]
    }
   ],
   "source": [
    "for element in b.flat:\n",
    "    print(element)"
   ]
  },
  {
   "cell_type": "markdown",
   "metadata": {
    "ExecuteTime": {
     "end_time": "2018-01-06T08:47:20.987748Z",
     "start_time": "2018-01-06T08:47:20.984739Z"
    }
   },
   "source": [
    "### 数组形状操作\n",
    "#### 更改数组的形状\n",
    "有很多种方式可以更改数组的形状。下列的函数都没有对原数组进行更改，而是返回了一个更改后的新数组。"
   ]
  },
  {
   "cell_type": "code",
   "execution_count": 43,
   "metadata": {
    "ExecuteTime": {
     "end_time": "2018-01-06T08:50:29.632970Z",
     "start_time": "2018-01-06T08:50:29.625978Z"
    }
   },
   "outputs": [
    {
     "name": "stdout",
     "output_type": "stream",
     "text": [
      "[ 0.  0.  4.  5.  7.  2.  2.  5.  1.  2.  5.  5.]\n",
      "[[ 0.  0.]\n",
      " [ 4.  5.]\n",
      " [ 7.  2.]\n",
      " [ 2.  5.]\n",
      " [ 1.  2.]\n",
      " [ 5.  5.]]\n",
      "[[ 0.  7.  1.]\n",
      " [ 0.  2.  2.]\n",
      " [ 4.  2.  5.]\n",
      " [ 5.  5.  5.]]\n"
     ]
    }
   ],
   "source": [
    "a = np.floor(10*np.random.random((3,4)))\n",
    "print(a.ravel()) #返回铺平后的数组\n",
    "print(a.reshape(6,2)) #按照指定的形状更改\n",
    "print(a.T)#返回转置矩阵"
   ]
  },
  {
   "cell_type": "markdown",
   "metadata": {},
   "source": [
    "如果一个维度填的是-1，则该维度的形状会自动进行计算"
   ]
  },
  {
   "cell_type": "code",
   "execution_count": 45,
   "metadata": {
    "ExecuteTime": {
     "end_time": "2018-01-06T09:01:10.813340Z",
     "start_time": "2018-01-06T09:01:10.808828Z"
    }
   },
   "outputs": [
    {
     "name": "stdout",
     "output_type": "stream",
     "text": [
      "[[ 0.  0.  4.  5.]\n",
      " [ 7.  2.  2.  5.]\n",
      " [ 1.  2.  5.  5.]]\n"
     ]
    }
   ],
   "source": [
    "print(a.reshape(3,-1))"
   ]
  },
  {
   "cell_type": "markdown",
   "metadata": {},
   "source": [
    "#### 堆砌不同的数组\n",
    "多个数组可以按照不同的轴合在一起"
   ]
  },
  {
   "cell_type": "code",
   "execution_count": 5,
   "metadata": {
    "ExecuteTime": {
     "end_time": "2018-01-06T07:20:24.082380Z",
     "start_time": "2018-01-06T07:20:24.064827Z"
    }
   },
   "outputs": [
    {
     "name": "stdout",
     "output_type": "stream",
     "text": [
      "[[ 5.  9.]\n",
      " [ 5.  7.]]\n",
      "[[ 7.  0.]\n",
      " [ 3.  7.]]\n",
      "[[ 5.  9.]\n",
      " [ 5.  7.]\n",
      " [ 7.  0.]\n",
      " [ 3.  7.]]\n",
      "[[ 5.  9.  7.  0.]\n",
      " [ 5.  7.  3.  7.]]\n",
      "[[ 5.  9.  7.  0.]\n",
      " [ 5.  7.  3.  7.]]\n",
      "[[[ 5.  9.]]\n",
      "\n",
      " [[ 5.  7.]]]\n",
      "[[[ 5.  9.]\n",
      "  [ 7.  0.]]\n",
      "\n",
      " [[ 5.  7.]\n",
      "  [ 3.  7.]]]\n"
     ]
    }
   ],
   "source": [
    "a=np.floor(10*np.random.random((2,2)))\n",
    "print(a)\n",
    "b=np.floor(10*np.random.random((2,2)))\n",
    "print(b)\n",
    "print(np.vstack((a,b)))#垂直方向堆砌\n",
    "print(np.hstack((a,b)))#水平方向堆砌\n",
    "from numpy import newaxis\n",
    "print(a[:,newaxis])"
   ]
  },
  {
   "cell_type": "markdown",
   "metadata": {},
   "source": [
    "#### 将一个数组划分为多个更小的数组\n",
    "使用```hsplit```，```vsplit```可以对数组按照水平方向和垂直方向进行划分。"
   ]
  },
  {
   "cell_type": "code",
   "execution_count": 46,
   "metadata": {
    "ExecuteTime": {
     "end_time": "2018-01-06T09:13:40.150288Z",
     "start_time": "2018-01-06T09:13:40.139227Z"
    }
   },
   "outputs": [
    {
     "name": "stdout",
     "output_type": "stream",
     "text": [
      "[[ 9.  0.  4.  0.  4.  8.  7.  0.  5.  3.  7.  4.]\n",
      " [ 9.  7.  4.  7.  8.  2.  0.  2.  7.  6.  5.  8.]]\n",
      "[array([[ 9.,  0.,  4.,  0.],\n",
      "       [ 9.,  7.,  4.,  7.]]), array([[ 4.,  8.,  7.,  0.],\n",
      "       [ 8.,  2.,  0.,  2.]]), array([[ 5.,  3.,  7.,  4.],\n",
      "       [ 7.,  6.,  5.,  8.]])]\n",
      "[array([[ 9.],\n",
      "       [ 9.]]), array([[ 0.],\n",
      "       [ 7.]]), array([[ 4.],\n",
      "       [ 4.]]), array([[ 0.,  4.,  8.,  7.,  0.,  5.,  3.,  7.,  4.],\n",
      "       [ 7.,  8.,  2.,  0.,  2.,  7.,  6.,  5.,  8.]])]\n"
     ]
    }
   ],
   "source": [
    "a=np.floor(10*np.random.random((2,12)))\n",
    "print(a)\n",
    "print(np.hsplit(a,3))\n",
    "print(np.hsplit(a,(1,2,3)))#在第一列，第二列，第三列进行划分"
   ]
  },
  {
   "cell_type": "markdown",
   "metadata": {},
   "source": [
    "### 复制和视图\n",
    "当操作数组时，数组的数据有时会复制到新数组中，有时又不会。这通常令初学者感到困难。总的来说有下面三种情况："
   ]
  },
  {
   "cell_type": "markdown",
   "metadata": {},
   "source": [
    "#### 不复制\n",
    "简单的赋值不会复制数组的数据。"
   ]
  },
  {
   "cell_type": "code",
   "execution_count": 47,
   "metadata": {
    "ExecuteTime": {
     "end_time": "2018-01-06T09:17:07.978355Z",
     "start_time": "2018-01-06T09:17:07.971336Z"
    }
   },
   "outputs": [
    {
     "name": "stdout",
     "output_type": "stream",
     "text": [
      "True\n",
      "(3, 4)\n"
     ]
    }
   ],
   "source": [
    "a=np.arange(12)\n",
    "b=a\n",
    "print(b is a)\n",
    "b.shape=3,4\n",
    "print(a.shape)"
   ]
  },
  {
   "cell_type": "markdown",
   "metadata": {},
   "source": [
    "#### 视图和浅复制\n",
    "不同的数组可以使用同一份数据，```view```函数在同一份数据上创建了新的数组对象。"
   ]
  },
  {
   "cell_type": "code",
   "execution_count": 48,
   "metadata": {
    "ExecuteTime": {
     "end_time": "2018-01-06T09:19:27.217400Z",
     "start_time": "2018-01-06T09:19:27.208873Z"
    }
   },
   "outputs": [
    {
     "name": "stdout",
     "output_type": "stream",
     "text": [
      "False\n",
      "True\n",
      "False\n",
      "(3, 4)\n",
      "[[   0    1    2    3]\n",
      " [   4    5    6    7]\n",
      " [   8 1234   10   11]]\n"
     ]
    }
   ],
   "source": [
    "c=a.view()\n",
    "print(c is a)\n",
    "print(c.base is a) #c是a的数据的视图\n",
    "print(c.flags.owndata)\n",
    "c.shape=6,2\n",
    "print(a.shape) #a的形状没有改变\n",
    "c[4,1]=1234 #a的数据改变了\n",
    "print(a)"
   ]
  },
  {
   "cell_type": "markdown",
   "metadata": {},
   "source": [
    "对数组切片会返回数组的视图"
   ]
  },
  {
   "cell_type": "code",
   "execution_count": 49,
   "metadata": {
    "ExecuteTime": {
     "end_time": "2018-01-06T09:21:02.077513Z",
     "start_time": "2018-01-06T09:21:02.071471Z"
    }
   },
   "outputs": [
    {
     "name": "stdout",
     "output_type": "stream",
     "text": [
      "[[ 0 10 10  3]\n",
      " [ 4 10 10  7]\n",
      " [ 8 10 10 11]]\n"
     ]
    }
   ],
   "source": [
    "s=a[:,1:3]\n",
    "s[:]=10\n",
    "print(a)"
   ]
  },
  {
   "cell_type": "markdown",
   "metadata": {},
   "source": [
    "#### 深复制\n",
    "```copy```函数实现了对数据和数组的完全复制。"
   ]
  },
  {
   "cell_type": "code",
   "execution_count": 50,
   "metadata": {
    "ExecuteTime": {
     "end_time": "2018-01-06T09:22:13.657126Z",
     "start_time": "2018-01-06T09:22:13.651083Z"
    }
   },
   "outputs": [
    {
     "name": "stdout",
     "output_type": "stream",
     "text": [
      "False\n",
      "False\n",
      "[[ 0 10 10  3]\n",
      " [ 4 10 10  7]\n",
      " [ 8 10 10 11]]\n"
     ]
    }
   ],
   "source": [
    "d=a.copy()\n",
    "print(d is a)\n",
    "print(d.base is a)\n",
    "d[0,0]=9999\n",
    "print(a)"
   ]
  },
  {
   "cell_type": "markdown",
   "metadata": {},
   "source": [
    "### 多种多样的索引和索引的小技巧\n",
    "相比Python的列表，NumPy提供了更多的索引功能。除了可以用整数和列表来访问数组之外，数组还可以被整型数组和布尔数组访问。\n",
    "#### 用数组访问数组"
   ]
  },
  {
   "cell_type": "code",
   "execution_count": 51,
   "metadata": {
    "ExecuteTime": {
     "end_time": "2018-01-06T09:29:32.989868Z",
     "start_time": "2018-01-06T09:29:32.981844Z"
    }
   },
   "outputs": [
    {
     "name": "stdout",
     "output_type": "stream",
     "text": [
      "[ 1  1  9 64 25]\n",
      "[[ 9 16]\n",
      " [64 25]]\n"
     ]
    }
   ],
   "source": [
    "a=np.arange(12)**2\n",
    "i=np.array([1,1,3,8,5])\n",
    "print(a[i])\n",
    "j=np.array([[3,4],[8,5]]) #用二维数组来访问数组\n",
    "print(a[j]) #产生和访问的数组相同形状的结果"
   ]
  },
  {
   "cell_type": "markdown",
   "metadata": {},
   "source": [
    "在时间序列的数据上寻找最大值通常会用到数组索引"
   ]
  },
  {
   "cell_type": "code",
   "execution_count": 54,
   "metadata": {
    "ExecuteTime": {
     "end_time": "2018-01-06T09:40:23.694073Z",
     "start_time": "2018-01-06T09:40:23.680068Z"
    }
   },
   "outputs": [
    {
     "name": "stdout",
     "output_type": "stream",
     "text": [
      "[  20.     51.25   82.5   113.75  145.  ]\n",
      "[[ 0.          0.84147098  0.90929743  0.14112001]\n",
      " [-0.7568025  -0.95892427 -0.2794155   0.6569866 ]\n",
      " [ 0.98935825  0.41211849 -0.54402111 -0.99999021]\n",
      " [-0.53657292  0.42016704  0.99060736  0.65028784]\n",
      " [-0.28790332 -0.96139749 -0.75098725  0.14987721]]\n",
      "[  82.5    20.    113.75   51.25]\n",
      "[ 0.98935825  0.84147098  0.99060736  0.6569866 ]\n"
     ]
    }
   ],
   "source": [
    "time=np.linspace(20,145,5)\n",
    "data=np.sin(np.arange(20)).reshape(5,4)\n",
    "print(time)\n",
    "print(data)\n",
    "ind=data.argmax(axis=0)#返回按照指定轴的方向的最大值的索引\n",
    "time_max=time[ind]\n",
    "print(time_max)\n",
    "data_max=data[ind,range(data.shape[1])]\n",
    "print(data_max)"
   ]
  },
  {
   "cell_type": "markdown",
   "metadata": {},
   "source": [
    "你也可以使用数组索引来赋值"
   ]
  },
  {
   "cell_type": "code",
   "execution_count": 55,
   "metadata": {
    "ExecuteTime": {
     "end_time": "2018-01-06T09:41:39.298667Z",
     "start_time": "2018-01-06T09:41:39.292674Z"
    }
   },
   "outputs": [
    {
     "name": "stdout",
     "output_type": "stream",
     "text": [
      "[0 0 2 0 0]\n"
     ]
    }
   ],
   "source": [
    "a=np.arange(5)\n",
    "a[[1,3,4]]=0\n",
    "print(a)"
   ]
  },
  {
   "cell_type": "markdown",
   "metadata": {},
   "source": [
    "如果赋值时有重复的索引，则赋值会执行多次，留下最后一次执行的结果"
   ]
  },
  {
   "cell_type": "code",
   "execution_count": 56,
   "metadata": {
    "ExecuteTime": {
     "end_time": "2018-01-06T09:42:58.130798Z",
     "start_time": "2018-01-06T09:42:58.125785Z"
    }
   },
   "outputs": [
    {
     "name": "stdout",
     "output_type": "stream",
     "text": [
      "[3 1 2 3 4]\n"
     ]
    }
   ],
   "source": [
    "a=np.arange(5)\n",
    "a[[0,0,0]]=[1,2,3]\n",
    "print(a)"
   ]
  },
  {
   "cell_type": "markdown",
   "metadata": {},
   "source": [
    "但是赋值时使用```+=```时，并不会重复计算"
   ]
  },
  {
   "cell_type": "code",
   "execution_count": 57,
   "metadata": {
    "ExecuteTime": {
     "end_time": "2018-01-06T09:44:19.547538Z",
     "start_time": "2018-01-06T09:44:19.541528Z"
    }
   },
   "outputs": [
    {
     "name": "stdout",
     "output_type": "stream",
     "text": [
      "[1 1 2 3 4]\n"
     ]
    }
   ],
   "source": [
    "a=np.arange(5)\n",
    "a[[0,0,0]]+=1\n",
    "print(a)"
   ]
  },
  {
   "cell_type": "markdown",
   "metadata": {},
   "source": [
    "这是因为\"a+=1\"最终是解释成了\"a=a+1\""
   ]
  },
  {
   "cell_type": "markdown",
   "metadata": {},
   "source": [
    "#### 用布尔数组来访问数组\n",
    "通过使用布尔数组索引，我们可以选择哪些数据是需要的，哪些是不需要的。  \n",
    "在赋值中也非常有用。"
   ]
  },
  {
   "cell_type": "code",
   "execution_count": 60,
   "metadata": {
    "ExecuteTime": {
     "end_time": "2018-01-06T09:47:33.098060Z",
     "start_time": "2018-01-06T09:47:33.088058Z"
    }
   },
   "outputs": [
    {
     "name": "stdout",
     "output_type": "stream",
     "text": [
      "[[False False False False]\n",
      " [False  True  True  True]\n",
      " [ True  True  True  True]]\n",
      "[ 5  6  7  8  9 10 11]\n",
      "[[ 0  1  2  3]\n",
      " [ 4 10 10 10]\n",
      " [10 10 10 10]]\n"
     ]
    }
   ],
   "source": [
    "a = np.arange(12).reshape(3,4)\n",
    "b = a > 4\n",
    "print(b)\n",
    "print(a[b])\n",
    "a[b]=10\n",
    "print(a)"
   ]
  },
  {
   "cell_type": "markdown",
   "metadata": {},
   "source": [
    "下面的代码用布尔数组索引产生了曼德布洛特集合的图像。"
   ]
  },
  {
   "cell_type": "code",
   "execution_count": 61,
   "metadata": {
    "ExecuteTime": {
     "end_time": "2018-01-06T09:49:01.392974Z",
     "start_time": "2018-01-06T09:49:00.727753Z"
    }
   },
   "outputs": [
    {
     "data": {
      "image/png": "[encoded data removed]",
      "text/plain": [
       "<matplotlib.figure.Figure at 0x1217e8ae438>"
      ]
     },
     "metadata": {},
     "output_type": "display_data"
    }
   ],
   "source": [
    "import numpy as np\n",
    "import matplotlib.pyplot as plt\n",
    "def mandelbrot( h,w, maxit=20 ):\n",
    "    \"\"\"Returns an image of the Mandelbrot fractal of size (h,w).\"\"\"\n",
    "    y,x = np.ogrid[ -1.4:1.4:h*1j, -2:0.8:w*1j ]\n",
    "    c = x+y*1j\n",
    "    z = c\n",
    "    divtime = maxit + np.zeros(z.shape, dtype=int)\n",
    "\n",
    "    for i in range(maxit):\n",
    "        z = z**2 + c\n",
    "        diverge = z*np.conj(z) > 2**2            # who is diverging\n",
    "        div_now = diverge & (divtime==maxit)  # who is diverging now\n",
    "        divtime[div_now] = i                  # note when\n",
    "        z[diverge] = 2                        # avoid diverging too much\n",
    "\n",
    "    return divtime\n",
    "plt.imshow(mandelbrot(400,400))\n",
    "plt.show()"
   ]
  },
  {
   "cell_type": "markdown",
   "metadata": {},
   "source": [
    "#### ix_()函数\n",
    "ix_函数被用来计算不同的向量的乘积。"
   ]
  },
  {
   "cell_type": "code",
   "execution_count": 65,
   "metadata": {
    "ExecuteTime": {
     "end_time": "2018-01-06T09:53:12.874405Z",
     "start_time": "2018-01-06T09:53:12.856384Z"
    }
   },
   "outputs": [
    {
     "name": "stdout",
     "output_type": "stream",
     "text": [
      "[[[2]]\n",
      "\n",
      " [[3]]\n",
      "\n",
      " [[4]]\n",
      "\n",
      " [[5]]]\n",
      "[[[8]\n",
      "  [5]\n",
      "  [4]]]\n",
      "[[[5 4 6 8 3]]]\n",
      "(4, 1, 1) (1, 3, 1) (1, 1, 5)\n",
      "[[[ 82  66  98 130  50]\n",
      "  [ 52  42  62  82  32]\n",
      "  [ 42  34  50  66  26]]\n",
      "\n",
      " [[123  99 147 195  75]\n",
      "  [ 78  63  93 123  48]\n",
      "  [ 63  51  75  99  39]]\n",
      "\n",
      " [[164 132 196 260 100]\n",
      "  [104  84 124 164  64]\n",
      "  [ 84  68 100 132  52]]\n",
      "\n",
      " [[205 165 245 325 125]\n",
      "  [130 105 155 205  80]\n",
      "  [105  85 125 165  65]]]\n",
      "65\n",
      "65\n"
     ]
    }
   ],
   "source": [
    "a = np.array([2,3,4,5])\n",
    "b = np.array([8,5,4])\n",
    "c = np.array([5,4,6,8,3])\n",
    "ax,bx,cx = np.ix_(a,b,c)\n",
    "print(ax)\n",
    "print(bx)\n",
    "print(cx)\n",
    "print(ax.shape, bx.shape, cx.shape)\n",
    "result = ax*bx*cx + ax\n",
    "print(result)\n",
    "print(result[3,2,4])\n",
    "print(a[3]*b[2]*c[4]+a[3])#计算的结果是相同的"
   ]
  },
  {
   "cell_type": "markdown",
   "metadata": {},
   "source": [
    "### 线性代数\n",
    "提供基本的线性代数操作\n",
    "#### 简单的数组操作\n"
   ]
  },
  {
   "cell_type": "code",
   "execution_count": 66,
   "metadata": {
    "ExecuteTime": {
     "end_time": "2018-01-06T09:56:59.302311Z",
     "start_time": "2018-01-06T09:56:59.276256Z"
    }
   },
   "outputs": [
    {
     "name": "stdout",
     "output_type": "stream",
     "text": [
      "[[ 1.  2.]\n",
      " [ 3.  4.]]\n",
      "[[-3.]\n",
      " [ 4.]]\n",
      "(array([ 0.+1.j,  0.-1.j]), array([[ 0.70710678+0.j        ,  0.70710678-0.j        ],\n",
      "       [ 0.00000000-0.70710678j,  0.00000000+0.70710678j]]))\n"
     ]
    }
   ],
   "source": [
    "import numpy as np\n",
    "a = np.array([[1.0, 2.0], [3.0, 4.0]])\n",
    "print(a)\n",
    "a.transpose()\n",
    "np.linalg.inv(a)\n",
    "u = np.eye(2) # unit 2x2 matrix; \"eye\" represents \"I\"\n",
    "j = np.array([[0.0, -1.0], [1.0, 0.0]])\n",
    "np.dot (j, j) # 点积\n",
    "np.trace(u)  # 矩阵的迹\n",
    "y = np.array([[5.], [7.]])\n",
    "print(np.linalg.solve(a, y))#解线性方程组\n",
    "print(np.linalg.eig(j))#计算特征值\n"
   ]
  },
  {
   "cell_type": "markdown",
   "metadata": {
    "ExecuteTime": {
     "end_time": "2018-01-06T09:58:07.634662Z",
     "start_time": "2018-01-06T09:58:07.629671Z"
    }
   },
   "source": [
    "### 小技巧和小贴士\n",
    "#### 自动更改数组大小\n",
    "在更改数组大小时，你可以省略一个维度的大小，这个维度的大小会自动计算出来"
   ]
  },
  {
   "cell_type": "code",
   "execution_count": 68,
   "metadata": {
    "ExecuteTime": {
     "end_time": "2018-01-06T09:58:35.969894Z",
     "start_time": "2018-01-06T09:58:35.963901Z"
    }
   },
   "outputs": [
    {
     "name": "stdout",
     "output_type": "stream",
     "text": [
      "(2, 5, 3)\n"
     ]
    }
   ],
   "source": [
    "a = np.arange(30)\n",
    "a.shape = 2,-1,3  # -1 表示自动计算大小\n",
    "print(a.shape)\n"
   ]
  },
  {
   "cell_type": "markdown",
   "metadata": {
    "ExecuteTime": {
     "end_time": "2018-01-06T10:00:28.890122Z",
     "start_time": "2018-01-06T10:00:28.885603Z"
    }
   },
   "source": [
    "#### 直方图\n"
   ]
  },
  {
   "cell_type": "code",
   "execution_count": 72,
   "metadata": {
    "ExecuteTime": {
     "end_time": "2018-01-06T10:02:55.531911Z",
     "start_time": "2018-01-06T10:02:55.155309Z"
    }
   },
   "outputs": [
    {
     "data": {
      "image/png": "[encoded data removed]",
      "text/plain": [
       "<matplotlib.figure.Figure at 0x1210e0a5940>"
      ]
     },
     "metadata": {},
     "output_type": "display_data"
    },
    {
     "data": {
      "image/png": "[encoded data removed]",
      "text/plain": [
       "<matplotlib.figure.Figure at 0x1210e016160>"
      ]
     },
     "metadata": {},
     "output_type": "display_data"
    }
   ],
   "source": [
    "import numpy as np\n",
    "import matplotlib.pyplot as plt\n",
    "mu,sigma=2,0.5\n",
    "v=np.random.normal(mu,sigma,10000)\n",
    "#matplotlib版本\n",
    "plt.hist(v,bins=100,normed=1)\n",
    "plt.show()\n",
    "#NumPy版本\n",
    "(n, bins) = np.histogram(v, bins=50, normed=True)  # NumPy version (no plot)\n",
    "plt.plot(.5*(bins[1:]+bins[:-1]), n)\n",
    "plt.show()"
   ]
  }
 ],
 "metadata": {
  "kernelspec": {
   "display_name": "Python 3",
   "language": "python",
   "name": "python3"
  },
  "language_info": {
   "codemirror_mode": {
    "name": "ipython",
    "version": 3
   },
   "file_extension": ".py",
   "mimetype": "text/x-python",
   "name": "python",
   "nbconvert_exporter": "python",
   "pygments_lexer": "ipython3",
   "version": "3.5.3"
  },
  "toc": {
   "nav_menu": {},
   "number_sections": true,
   "sideBar": true,
   "skip_h1_title": false,
   "toc_cell": false,
   "toc_position": {},
   "toc_section_display": "block",
   "toc_window_display": false
  },
  "varInspector": {
   "cols": {
    "lenName": 16,
    "lenType": 16,
    "lenVar": 40
   },
   "kernels_config": {
    "python": {
     "delete_cmd_postfix": "",
     "delete_cmd_prefix": "del ",
     "library": "var_list.py",
     "varRefreshCmd": "print(var_dic_list())"
    },
    "r": {
     "delete_cmd_postfix": ") ",
     "delete_cmd_prefix": "rm(",
     "library": "var_list.r",
     "varRefreshCmd": "cat(var_dic_list()) "
    }
   },
   "types_to_exclude": [
    "module",
    "function",
    "builtin_function_or_method",
    "instance",
    "_Feature"
   ],
   "window_display": false
  }
 },
 "nbformat": 4,
 "nbformat_minor": 2
}
