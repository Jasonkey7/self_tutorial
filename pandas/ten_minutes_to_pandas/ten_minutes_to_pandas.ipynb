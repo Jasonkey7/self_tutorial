{
 "cells": [
  {
   "cell_type": "code",
   "execution_count": 1,
   "metadata": {
    "ExecuteTime": {
     "end_time": "2018-01-13T07:45:24.309425Z",
     "start_time": "2018-01-13T07:45:23.982985Z"
    }
   },
   "outputs": [],
   "source": [
    "%matplotlib inline"
   ]
  },
  {
   "cell_type": "markdown",
   "metadata": {},
   "source": [
    "### 导入\n",
    "习惯上，我们这样导入pandas:"
   ]
  },
  {
   "cell_type": "code",
   "execution_count": 2,
   "metadata": {
    "ExecuteTime": {
     "end_time": "2018-01-13T07:45:25.520115Z",
     "start_time": "2018-01-13T07:45:25.301417Z"
    }
   },
   "outputs": [],
   "source": [
    "import numpy as np\n",
    "import pandas as pd\n",
    "import matplotlib.pyplot as plt"
   ]
  },
  {
   "cell_type": "markdown",
   "metadata": {},
   "source": [
    "### 创建对象\n",
    "通过列表可以创建Series，Pandas会自动创建整型索引。"
   ]
  },
  {
   "cell_type": "code",
   "execution_count": 3,
   "metadata": {
    "ExecuteTime": {
     "end_time": "2018-01-13T07:46:46.841237Z",
     "start_time": "2018-01-13T07:46:46.833237Z"
    }
   },
   "outputs": [
    {
     "name": "stdout",
     "output_type": "stream",
     "text": [
      "0    1.0\n",
      "1    3.0\n",
      "2    5.0\n",
      "3    NaN\n",
      "4    6.0\n",
      "5    8.0\n",
      "dtype: float64\n"
     ]
    }
   ],
   "source": [
    "s=pd.Series([1,3,5,np.nan,6,8])\n",
    "print(s)"
   ]
  },
  {
   "cell_type": "markdown",
   "metadata": {},
   "source": [
    "通过NumPy的数组可以创建一个DataFrame。"
   ]
  },
  {
   "cell_type": "code",
   "execution_count": 4,
   "metadata": {
    "ExecuteTime": {
     "end_time": "2018-01-13T07:46:47.105287Z",
     "start_time": "2018-01-13T07:46:47.093258Z"
    }
   },
   "outputs": [
    {
     "name": "stdout",
     "output_type": "stream",
     "text": [
      "DatetimeIndex(['2013-01-01', '2013-01-02', '2013-01-03', '2013-01-04',\n",
      "               '2013-01-05', '2013-01-06'],\n",
      "              dtype='datetime64[ns]', freq='D')\n",
      "                   A         B         C         D\n",
      "2013-01-01 -0.653658 -0.412076  0.289240 -0.813057\n",
      "2013-01-02 -0.000286 -1.257760 -1.232549 -0.899191\n",
      "2013-01-03  0.404230 -0.880146 -1.593526  1.141695\n",
      "2013-01-04  0.100815  1.143710  0.467192  0.014952\n",
      "2013-01-05  0.944031 -0.653508  0.005439  0.316151\n",
      "2013-01-06 -0.305994 -1.372941 -2.900295  0.220700\n"
     ]
    }
   ],
   "source": [
    "dates=pd.date_range('20130101',periods=6)\n",
    "print(dates)\n",
    "df=pd.DataFrame(np.random.randn(6,4),index=dates,columns=list('ABCD'))\n",
    "print(df)"
   ]
  },
  {
   "cell_type": "markdown",
   "metadata": {},
   "source": [
    "也可以通过字典来创建DataFrame"
   ]
  },
  {
   "cell_type": "code",
   "execution_count": 5,
   "metadata": {
    "ExecuteTime": {
     "end_time": "2018-01-13T07:46:47.426719Z",
     "start_time": "2018-01-13T07:46:47.412682Z"
    }
   },
   "outputs": [
    {
     "name": "stdout",
     "output_type": "stream",
     "text": [
      "     A          B    C  D      E    F\n",
      "0  1.0 2013-01-02  1.0  3   test  foo\n",
      "1  1.0 2013-01-02  1.0  3  train  foo\n",
      "2  1.0 2013-01-02  1.0  3   test  foo\n",
      "3  1.0 2013-01-02  1.0  3  train  foo\n"
     ]
    }
   ],
   "source": [
    "df2=pd.DataFrame({'A':1.,\n",
    "                 'B':pd.Timestamp('20130102'),\n",
    "                 'C':pd.Series(1,index=list(range(4)),dtype='float32'),\n",
    "                 'D':np.array([3]*4,dtype='int32'),\n",
    "                 'E':pd.Categorical(['test','train','test','train']),\n",
    "                 'F':'foo'})\n",
    "print(df2)"
   ]
  },
  {
   "cell_type": "markdown",
   "metadata": {},
   "source": [
    "设置了特定的dtypes"
   ]
  },
  {
   "cell_type": "code",
   "execution_count": 6,
   "metadata": {
    "ExecuteTime": {
     "end_time": "2018-01-13T07:46:47.722553Z",
     "start_time": "2018-01-13T07:46:47.714530Z"
    }
   },
   "outputs": [
    {
     "data": {
      "text/plain": [
       "A           float64\n",
       "B    datetime64[ns]\n",
       "C           float32\n",
       "D             int32\n",
       "E          category\n",
       "F            object\n",
       "dtype: object"
      ]
     },
     "execution_count": 6,
     "metadata": {},
     "output_type": "execute_result"
    }
   ],
   "source": [
    "df2.dtypes"
   ]
  },
  {
   "cell_type": "markdown",
   "metadata": {
    "ExecuteTime": {
     "end_time": "2018-01-09T03:20:11.361273Z",
     "start_time": "2018-01-09T03:20:11.356261Z"
    }
   },
   "source": [
    "### 查看数据\n",
    "查看数据的顶部和底部"
   ]
  },
  {
   "cell_type": "code",
   "execution_count": 7,
   "metadata": {
    "ExecuteTime": {
     "end_time": "2018-01-13T07:46:48.033330Z",
     "start_time": "2018-01-13T07:46:48.024337Z"
    }
   },
   "outputs": [
    {
     "name": "stdout",
     "output_type": "stream",
     "text": [
      "                   A         B         C         D\n",
      "2013-01-01 -0.653658 -0.412076  0.289240 -0.813057\n",
      "2013-01-02 -0.000286 -1.257760 -1.232549 -0.899191\n",
      "2013-01-03  0.404230 -0.880146 -1.593526  1.141695\n",
      "2013-01-04  0.100815  1.143710  0.467192  0.014952\n",
      "2013-01-05  0.944031 -0.653508  0.005439  0.316151\n",
      "                   A         B         C         D\n",
      "2013-01-04  0.100815  1.143710  0.467192  0.014952\n",
      "2013-01-05  0.944031 -0.653508  0.005439  0.316151\n",
      "2013-01-06 -0.305994 -1.372941 -2.900295  0.220700\n"
     ]
    }
   ],
   "source": [
    "print(df.head())\n",
    "print(df.tail(3))"
   ]
  },
  {
   "cell_type": "markdown",
   "metadata": {},
   "source": [
    "查看索引，列名，以及纯的NumPy数据"
   ]
  },
  {
   "cell_type": "code",
   "execution_count": 8,
   "metadata": {
    "ExecuteTime": {
     "end_time": "2018-01-13T07:46:48.406942Z",
     "start_time": "2018-01-13T07:46:48.399922Z"
    }
   },
   "outputs": [
    {
     "name": "stdout",
     "output_type": "stream",
     "text": [
      "DatetimeIndex(['2013-01-01', '2013-01-02', '2013-01-03', '2013-01-04',\n",
      "               '2013-01-05', '2013-01-06'],\n",
      "              dtype='datetime64[ns]', freq='D')\n",
      "Index(['A', 'B', 'C', 'D'], dtype='object')\n",
      "[[ -6.53658042e-01  -4.12076297e-01   2.89239645e-01  -8.13057346e-01]\n",
      " [ -2.86361403e-04  -1.25775963e+00  -1.23254938e+00  -8.99191307e-01]\n",
      " [  4.04229751e-01  -8.80146291e-01  -1.59352637e+00   1.14169486e+00]\n",
      " [  1.00815285e-01   1.14370966e+00   4.67192499e-01   1.49516032e-02]\n",
      " [  9.44030631e-01  -6.53507646e-01   5.43886068e-03   3.16151200e-01]\n",
      " [ -3.05994200e-01  -1.37294092e+00  -2.90029481e+00   2.20700202e-01]]\n"
     ]
    }
   ],
   "source": [
    "print(df.index)\n",
    "print(df.columns)\n",
    "print(df.values)"
   ]
  },
  {
   "cell_type": "markdown",
   "metadata": {},
   "source": [
    "```DataFrame.describe()```提供了便捷的数据统计"
   ]
  },
  {
   "cell_type": "code",
   "execution_count": 9,
   "metadata": {
    "ExecuteTime": {
     "end_time": "2018-01-13T07:46:48.714876Z",
     "start_time": "2018-01-13T07:46:48.693822Z"
    },
    "scrolled": true
   },
   "outputs": [
    {
     "name": "stdout",
     "output_type": "stream",
     "text": [
      "              A         B         C         D\n",
      "count  6.000000  6.000000  6.000000  6.000000\n",
      "mean   0.081523 -0.572120 -0.827417 -0.003125\n",
      "std    0.556019  0.914615  1.316394  0.764447\n",
      "min   -0.653658 -1.372941 -2.900295 -0.899191\n",
      "25%   -0.229567 -1.163356 -1.503282 -0.606055\n",
      "50%    0.050264 -0.766827 -0.613555  0.117826\n",
      "75%    0.328376 -0.472434  0.218289  0.292288\n",
      "max    0.944031  1.143710  0.467192  1.141695\n"
     ]
    }
   ],
   "source": [
    "print(df.describe())"
   ]
  },
  {
   "cell_type": "markdown",
   "metadata": {},
   "source": [
    "转置矩阵"
   ]
  },
  {
   "cell_type": "code",
   "execution_count": 10,
   "metadata": {
    "ExecuteTime": {
     "end_time": "2018-01-13T07:46:49.018446Z",
     "start_time": "2018-01-13T07:46:49.008420Z"
    }
   },
   "outputs": [
    {
     "name": "stdout",
     "output_type": "stream",
     "text": [
      "   2013-01-01  2013-01-02  2013-01-03  2013-01-04  2013-01-05  2013-01-06\n",
      "A   -0.653658   -0.000286    0.404230    0.100815    0.944031   -0.305994\n",
      "B   -0.412076   -1.257760   -0.880146    1.143710   -0.653508   -1.372941\n",
      "C    0.289240   -1.232549   -1.593526    0.467192    0.005439   -2.900295\n",
      "D   -0.813057   -0.899191    1.141695    0.014952    0.316151    0.220700\n"
     ]
    }
   ],
   "source": [
    "print(df.T)"
   ]
  },
  {
   "cell_type": "markdown",
   "metadata": {},
   "source": [
    "沿某一轴排序"
   ]
  },
  {
   "cell_type": "code",
   "execution_count": 11,
   "metadata": {
    "ExecuteTime": {
     "end_time": "2018-01-13T07:46:49.328897Z",
     "start_time": "2018-01-13T07:46:49.319897Z"
    }
   },
   "outputs": [
    {
     "name": "stdout",
     "output_type": "stream",
     "text": [
      "                   D         C         B         A\n",
      "2013-01-01 -0.813057  0.289240 -0.412076 -0.653658\n",
      "2013-01-02 -0.899191 -1.232549 -1.257760 -0.000286\n",
      "2013-01-03  1.141695 -1.593526 -0.880146  0.404230\n",
      "2013-01-04  0.014952  0.467192  1.143710  0.100815\n",
      "2013-01-05  0.316151  0.005439 -0.653508  0.944031\n",
      "2013-01-06  0.220700 -2.900295 -1.372941 -0.305994\n"
     ]
    }
   ],
   "source": [
    "print(df.sort_index(axis=1,ascending=False))"
   ]
  },
  {
   "cell_type": "markdown",
   "metadata": {},
   "source": [
    "按照值进行排序"
   ]
  },
  {
   "cell_type": "code",
   "execution_count": 12,
   "metadata": {
    "ExecuteTime": {
     "end_time": "2018-01-13T07:46:49.682760Z",
     "start_time": "2018-01-13T07:46:49.672733Z"
    },
    "scrolled": true
   },
   "outputs": [
    {
     "name": "stdout",
     "output_type": "stream",
     "text": [
      "                   A         B         C         D\n",
      "2013-01-06 -0.305994 -1.372941 -2.900295  0.220700\n",
      "2013-01-02 -0.000286 -1.257760 -1.232549 -0.899191\n",
      "2013-01-03  0.404230 -0.880146 -1.593526  1.141695\n",
      "2013-01-05  0.944031 -0.653508  0.005439  0.316151\n",
      "2013-01-01 -0.653658 -0.412076  0.289240 -0.813057\n",
      "2013-01-04  0.100815  1.143710  0.467192  0.014952\n"
     ]
    }
   ],
   "source": [
    "print(df.sort_values(by='B'))"
   ]
  },
  {
   "cell_type": "markdown",
   "metadata": {},
   "source": [
    "### 数据选择\n",
    "**注意：**尽管Python标准库和NumPy的语句在选择和设置数据时更直观和方便交互。但是在生产环境中，我们更建议使用Pandas的数据访问函数：```.at, .iat, .loc, .iloc, .ix```\n",
    "\n",
    "#### 数据获取\n",
    "选择一列，返回Series。等同于df.A"
   ]
  },
  {
   "cell_type": "code",
   "execution_count": 13,
   "metadata": {
    "ExecuteTime": {
     "end_time": "2018-01-13T07:46:50.050583Z",
     "start_time": "2018-01-13T07:46:50.038517Z"
    }
   },
   "outputs": [
    {
     "data": {
      "text/plain": [
       "2013-01-01   -0.653658\n",
       "2013-01-02   -0.000286\n",
       "2013-01-03    0.404230\n",
       "2013-01-04    0.100815\n",
       "2013-01-05    0.944031\n",
       "2013-01-06   -0.305994\n",
       "Freq: D, Name: A, dtype: float64"
      ]
     },
     "execution_count": 13,
     "metadata": {},
     "output_type": "execute_result"
    }
   ],
   "source": [
    "df['A']"
   ]
  },
  {
   "cell_type": "markdown",
   "metadata": {
    "ExecuteTime": {
     "end_time": "2018-01-09T06:24:49.301694Z",
     "start_time": "2018-01-09T06:24:49.293642Z"
    }
   },
   "source": [
    "使用```[]```来切分多行数据"
   ]
  },
  {
   "cell_type": "code",
   "execution_count": 14,
   "metadata": {
    "ExecuteTime": {
     "end_time": "2018-01-13T07:46:50.386679Z",
     "start_time": "2018-01-13T07:46:50.375687Z"
    }
   },
   "outputs": [
    {
     "name": "stdout",
     "output_type": "stream",
     "text": [
      "                   A         B         C         D\n",
      "2013-01-01 -0.653658 -0.412076  0.289240 -0.813057\n",
      "2013-01-02 -0.000286 -1.257760 -1.232549 -0.899191\n",
      "2013-01-03  0.404230 -0.880146 -1.593526  1.141695\n",
      "                   A         B         C         D\n",
      "2013-01-02 -0.000286 -1.257760 -1.232549 -0.899191\n",
      "2013-01-03  0.404230 -0.880146 -1.593526  1.141695\n",
      "2013-01-04  0.100815  1.143710  0.467192  0.014952\n"
     ]
    }
   ],
   "source": [
    "print(df[0:3])\n",
    "print(df['20130102':'20130104'])"
   ]
  },
  {
   "cell_type": "markdown",
   "metadata": {},
   "source": [
    "#### 根据标签选择\n",
    "使用标签来得到特定的一行"
   ]
  },
  {
   "cell_type": "code",
   "execution_count": 15,
   "metadata": {
    "ExecuteTime": {
     "end_time": "2018-01-13T07:46:50.716513Z",
     "start_time": "2018-01-13T07:46:50.710495Z"
    }
   },
   "outputs": [
    {
     "data": {
      "text/plain": [
       "A   -0.653658\n",
       "B   -0.412076\n",
       "C    0.289240\n",
       "D   -0.813057\n",
       "Name: 2013-01-01 00:00:00, dtype: float64"
      ]
     },
     "execution_count": 15,
     "metadata": {},
     "output_type": "execute_result"
    }
   ],
   "source": [
    "df.loc[dates[0]]"
   ]
  },
  {
   "cell_type": "markdown",
   "metadata": {},
   "source": [
    "使用标签来得到多个指定的列"
   ]
  },
  {
   "cell_type": "code",
   "execution_count": 16,
   "metadata": {
    "ExecuteTime": {
     "end_time": "2018-01-13T07:46:51.029548Z",
     "start_time": "2018-01-13T07:46:51.022530Z"
    }
   },
   "outputs": [
    {
     "name": "stdout",
     "output_type": "stream",
     "text": [
      "                   A         B\n",
      "2013-01-01 -0.653658 -0.412076\n",
      "2013-01-02 -0.000286 -1.257760\n",
      "2013-01-03  0.404230 -0.880146\n",
      "2013-01-04  0.100815  1.143710\n",
      "2013-01-05  0.944031 -0.653508\n",
      "2013-01-06 -0.305994 -1.372941\n"
     ]
    }
   ],
   "source": [
    "print(df.loc[:,['A','B']])"
   ]
  },
  {
   "cell_type": "markdown",
   "metadata": {},
   "source": [
    "用标签来切片时，端点的值都是被包含在内的"
   ]
  },
  {
   "cell_type": "code",
   "execution_count": 17,
   "metadata": {
    "ExecuteTime": {
     "end_time": "2018-01-13T07:46:51.384300Z",
     "start_time": "2018-01-13T07:46:51.375251Z"
    }
   },
   "outputs": [
    {
     "name": "stdout",
     "output_type": "stream",
     "text": [
      "                   A         B\n",
      "2013-01-02 -0.000286 -1.257760\n",
      "2013-01-03  0.404230 -0.880146\n",
      "2013-01-04  0.100815  1.143710\n"
     ]
    }
   ],
   "source": [
    "print(df.loc['20130102':'20130104',['A','B']])"
   ]
  },
  {
   "cell_type": "markdown",
   "metadata": {
    "ExecuteTime": {
     "end_time": "2018-01-09T06:50:46.866941Z",
     "start_time": "2018-01-09T06:50:46.851903Z"
    }
   },
   "source": [
    "选择的返回值可以降低维度"
   ]
  },
  {
   "cell_type": "code",
   "execution_count": 18,
   "metadata": {
    "ExecuteTime": {
     "end_time": "2018-01-13T07:46:51.710760Z",
     "start_time": "2018-01-13T07:46:51.701723Z"
    }
   },
   "outputs": [
    {
     "data": {
      "text/plain": [
       "A   -0.000286\n",
       "B   -1.257760\n",
       "Name: 2013-01-02 00:00:00, dtype: float64"
      ]
     },
     "execution_count": 18,
     "metadata": {},
     "output_type": "execute_result"
    }
   ],
   "source": [
    "df.loc['20130102',['A','B']]"
   ]
  },
  {
   "cell_type": "markdown",
   "metadata": {
    "ExecuteTime": {
     "end_time": "2018-01-09T06:51:10.599086Z",
     "start_time": "2018-01-09T06:51:10.589060Z"
    }
   },
   "source": [
    "选择一个标量"
   ]
  },
  {
   "cell_type": "code",
   "execution_count": 19,
   "metadata": {
    "ExecuteTime": {
     "end_time": "2018-01-13T07:46:52.070121Z",
     "start_time": "2018-01-13T07:46:52.065107Z"
    }
   },
   "outputs": [
    {
     "data": {
      "text/plain": [
       "-0.65365804231862046"
      ]
     },
     "execution_count": 19,
     "metadata": {},
     "output_type": "execute_result"
    }
   ],
   "source": [
    "df.loc[dates[0],'A']"
   ]
  },
  {
   "cell_type": "markdown",
   "metadata": {
    "ExecuteTime": {
     "end_time": "2018-01-09T06:52:11.528501Z",
     "start_time": "2018-01-09T06:52:11.524460Z"
    }
   },
   "source": [
    "快速获取一个标量（与上面相同）"
   ]
  },
  {
   "cell_type": "code",
   "execution_count": 20,
   "metadata": {
    "ExecuteTime": {
     "end_time": "2018-01-13T07:46:52.427089Z",
     "start_time": "2018-01-13T07:46:52.421105Z"
    }
   },
   "outputs": [
    {
     "data": {
      "text/plain": [
       "-0.65365804231862046"
      ]
     },
     "execution_count": 20,
     "metadata": {},
     "output_type": "execute_result"
    }
   ],
   "source": [
    "df.at[dates[0],'A']"
   ]
  },
  {
   "cell_type": "markdown",
   "metadata": {},
   "source": [
    "#### 根据位置进行选择\n",
    "根据整数下标来选择数据"
   ]
  },
  {
   "cell_type": "code",
   "execution_count": 21,
   "metadata": {
    "ExecuteTime": {
     "end_time": "2018-01-13T07:46:52.745211Z",
     "start_time": "2018-01-13T07:46:52.739198Z"
    }
   },
   "outputs": [
    {
     "data": {
      "text/plain": [
       "A    0.100815\n",
       "B    1.143710\n",
       "C    0.467192\n",
       "D    0.014952\n",
       "Name: 2013-01-04 00:00:00, dtype: float64"
      ]
     },
     "execution_count": 21,
     "metadata": {},
     "output_type": "execute_result"
    }
   ],
   "source": [
    "df.iloc[3]"
   ]
  },
  {
   "cell_type": "markdown",
   "metadata": {},
   "source": [
    "用整数来切片，类似于Python标准库和NumPy"
   ]
  },
  {
   "cell_type": "code",
   "execution_count": 22,
   "metadata": {
    "ExecuteTime": {
     "end_time": "2018-01-13T07:46:53.074663Z",
     "start_time": "2018-01-13T07:46:53.067643Z"
    }
   },
   "outputs": [
    {
     "name": "stdout",
     "output_type": "stream",
     "text": [
      "                   A         B\n",
      "2013-01-04  0.100815  1.143710\n",
      "2013-01-05  0.944031 -0.653508\n"
     ]
    }
   ],
   "source": [
    "print(df.iloc[3:5,0:2])"
   ]
  },
  {
   "cell_type": "markdown",
   "metadata": {
    "ExecuteTime": {
     "end_time": "2018-01-09T07:25:26.762911Z",
     "start_time": "2018-01-09T07:25:26.756895Z"
    }
   },
   "source": [
    "用整数列表来进行选择，与Python标准库和NumPy类似"
   ]
  },
  {
   "cell_type": "code",
   "execution_count": 23,
   "metadata": {
    "ExecuteTime": {
     "end_time": "2018-01-13T07:46:53.452416Z",
     "start_time": "2018-01-13T07:46:53.444912Z"
    }
   },
   "outputs": [
    {
     "name": "stdout",
     "output_type": "stream",
     "text": [
      "                   A         C\n",
      "2013-01-02 -0.000286 -1.232549\n",
      "2013-01-03  0.404230 -1.593526\n",
      "2013-01-05  0.944031  0.005439\n"
     ]
    }
   ],
   "source": [
    "print(df.iloc[[1,2,4],[0,2]])"
   ]
  },
  {
   "cell_type": "markdown",
   "metadata": {},
   "source": [
    "对行进行切片选择"
   ]
  },
  {
   "cell_type": "code",
   "execution_count": 24,
   "metadata": {
    "ExecuteTime": {
     "end_time": "2018-01-13T07:46:53.766568Z",
     "start_time": "2018-01-13T07:46:53.759571Z"
    }
   },
   "outputs": [
    {
     "name": "stdout",
     "output_type": "stream",
     "text": [
      "                   A         B         C         D\n",
      "2013-01-02 -0.000286 -1.257760 -1.232549 -0.899191\n",
      "2013-01-03  0.404230 -0.880146 -1.593526  1.141695\n"
     ]
    }
   ],
   "source": [
    "print(df.iloc[1:3,:])"
   ]
  },
  {
   "cell_type": "markdown",
   "metadata": {},
   "source": [
    "对列进行切片选择"
   ]
  },
  {
   "cell_type": "code",
   "execution_count": 25,
   "metadata": {
    "ExecuteTime": {
     "end_time": "2018-01-13T07:46:54.090242Z",
     "start_time": "2018-01-13T07:46:54.082250Z"
    }
   },
   "outputs": [
    {
     "name": "stdout",
     "output_type": "stream",
     "text": [
      "                   B         C\n",
      "2013-01-01 -0.412076  0.289240\n",
      "2013-01-02 -1.257760 -1.232549\n",
      "2013-01-03 -0.880146 -1.593526\n",
      "2013-01-04  1.143710  0.467192\n",
      "2013-01-05 -0.653508  0.005439\n",
      "2013-01-06 -1.372941 -2.900295\n"
     ]
    }
   ],
   "source": [
    "print(df.iloc[:,1:3])"
   ]
  },
  {
   "cell_type": "markdown",
   "metadata": {},
   "source": [
    "获取某个标量"
   ]
  },
  {
   "cell_type": "code",
   "execution_count": 26,
   "metadata": {
    "ExecuteTime": {
     "end_time": "2018-01-13T07:46:54.427372Z",
     "start_time": "2018-01-13T07:46:54.423365Z"
    }
   },
   "outputs": [
    {
     "data": {
      "text/plain": [
       "-1.257759630175423"
      ]
     },
     "execution_count": 26,
     "metadata": {},
     "output_type": "execute_result"
    }
   ],
   "source": [
    "df.iloc[1,1]"
   ]
  },
  {
   "cell_type": "markdown",
   "metadata": {},
   "source": [
    "快速地获取某个标量（与上面的函数相同）"
   ]
  },
  {
   "cell_type": "code",
   "execution_count": 27,
   "metadata": {
    "ExecuteTime": {
     "end_time": "2018-01-13T07:46:54.796667Z",
     "start_time": "2018-01-13T07:46:54.791652Z"
    }
   },
   "outputs": [
    {
     "data": {
      "text/plain": [
       "-1.257759630175423"
      ]
     },
     "execution_count": 27,
     "metadata": {},
     "output_type": "execute_result"
    }
   ],
   "source": [
    "df.iat[1,1]"
   ]
  },
  {
   "cell_type": "markdown",
   "metadata": {},
   "source": [
    "#### 布尔索引\n",
    "使用某列值来选择数据"
   ]
  },
  {
   "cell_type": "code",
   "execution_count": 28,
   "metadata": {
    "ExecuteTime": {
     "end_time": "2018-01-13T07:46:55.132799Z",
     "start_time": "2018-01-13T07:46:55.123799Z"
    }
   },
   "outputs": [
    {
     "name": "stdout",
     "output_type": "stream",
     "text": [
      "                   A         B         C         D\n",
      "2013-01-03  0.404230 -0.880146 -1.593526  1.141695\n",
      "2013-01-04  0.100815  1.143710  0.467192  0.014952\n",
      "2013-01-05  0.944031 -0.653508  0.005439  0.316151\n"
     ]
    }
   ],
   "source": [
    "print(df[df.A>0])"
   ]
  },
  {
   "cell_type": "markdown",
   "metadata": {},
   "source": [
    "从DataFrame中选择满足某条件的数据"
   ]
  },
  {
   "cell_type": "code",
   "execution_count": 29,
   "metadata": {
    "ExecuteTime": {
     "end_time": "2018-01-13T07:46:55.502012Z",
     "start_time": "2018-01-13T07:46:55.492005Z"
    }
   },
   "outputs": [
    {
     "name": "stdout",
     "output_type": "stream",
     "text": [
      "                   A        B         C         D\n",
      "2013-01-01       NaN      NaN  0.289240       NaN\n",
      "2013-01-02       NaN      NaN       NaN       NaN\n",
      "2013-01-03  0.404230      NaN       NaN  1.141695\n",
      "2013-01-04  0.100815  1.14371  0.467192  0.014952\n",
      "2013-01-05  0.944031      NaN  0.005439  0.316151\n",
      "2013-01-06       NaN      NaN       NaN  0.220700\n"
     ]
    }
   ],
   "source": [
    "print(df[df>0])"
   ]
  },
  {
   "cell_type": "markdown",
   "metadata": {},
   "source": [
    "使用```isin()```函数来过滤数据"
   ]
  },
  {
   "cell_type": "code",
   "execution_count": 30,
   "metadata": {
    "ExecuteTime": {
     "end_time": "2018-01-13T07:46:55.855504Z",
     "start_time": "2018-01-13T07:46:55.839958Z"
    }
   },
   "outputs": [
    {
     "name": "stdout",
     "output_type": "stream",
     "text": [
      "                   A         B         C         D      E\n",
      "2013-01-01 -0.653658 -0.412076  0.289240 -0.813057    one\n",
      "2013-01-02 -0.000286 -1.257760 -1.232549 -0.899191    one\n",
      "2013-01-03  0.404230 -0.880146 -1.593526  1.141695    two\n",
      "2013-01-04  0.100815  1.143710  0.467192  0.014952  three\n",
      "2013-01-05  0.944031 -0.653508  0.005439  0.316151   four\n",
      "2013-01-06 -0.305994 -1.372941 -2.900295  0.220700  three\n",
      "                   A         B         C         D     E\n",
      "2013-01-03  0.404230 -0.880146 -1.593526  1.141695   two\n",
      "2013-01-05  0.944031 -0.653508  0.005439  0.316151  four\n"
     ]
    }
   ],
   "source": [
    "df2=df.copy()\n",
    "df2['E']=['one','one','two','three','four','three']\n",
    "print(df2)\n",
    "print(df2[df2['E'].isin(['two','four'])])"
   ]
  },
  {
   "cell_type": "markdown",
   "metadata": {},
   "source": [
    "#### 设置数据\n",
    "设置一个新列并设置索引"
   ]
  },
  {
   "cell_type": "code",
   "execution_count": 31,
   "metadata": {
    "ExecuteTime": {
     "end_time": "2018-01-13T07:46:56.254550Z",
     "start_time": "2018-01-13T07:46:56.235969Z"
    }
   },
   "outputs": [
    {
     "data": {
      "text/plain": [
       "2013-01-02    1\n",
       "2013-01-03    2\n",
       "2013-01-04    3\n",
       "2013-01-05    4\n",
       "2013-01-06    5\n",
       "2013-01-07    6\n",
       "Freq: D, dtype: int64"
      ]
     },
     "execution_count": 31,
     "metadata": {},
     "output_type": "execute_result"
    }
   ],
   "source": [
    "s1=pd.Series([1,2,3,4,5,6],index=pd.date_range('20130102',periods=6))\n",
    "df['F']=s1\n",
    "s1"
   ]
  },
  {
   "cell_type": "markdown",
   "metadata": {},
   "source": [
    "根据标签来设置值"
   ]
  },
  {
   "cell_type": "code",
   "execution_count": 32,
   "metadata": {
    "ExecuteTime": {
     "end_time": "2018-01-13T07:46:56.548368Z",
     "start_time": "2018-01-13T07:46:56.539358Z"
    }
   },
   "outputs": [
    {
     "name": "stdout",
     "output_type": "stream",
     "text": [
      "                   A         B         C         D    F\n",
      "2013-01-01  0.000000 -0.412076  0.289240 -0.813057  NaN\n",
      "2013-01-02 -0.000286 -1.257760 -1.232549 -0.899191  1.0\n",
      "2013-01-03  0.404230 -0.880146 -1.593526  1.141695  2.0\n",
      "2013-01-04  0.100815  1.143710  0.467192  0.014952  3.0\n",
      "2013-01-05  0.944031 -0.653508  0.005439  0.316151  4.0\n",
      "2013-01-06 -0.305994 -1.372941 -2.900295  0.220700  5.0\n"
     ]
    }
   ],
   "source": [
    "df.at[dates[0],'A']=0\n",
    "print(df)"
   ]
  },
  {
   "cell_type": "markdown",
   "metadata": {},
   "source": [
    "根据位置的来设置值"
   ]
  },
  {
   "cell_type": "code",
   "execution_count": 33,
   "metadata": {
    "ExecuteTime": {
     "end_time": "2018-01-13T07:46:56.911348Z",
     "start_time": "2018-01-13T07:46:56.903352Z"
    }
   },
   "outputs": [
    {
     "name": "stdout",
     "output_type": "stream",
     "text": [
      "                   A         B         C         D    F\n",
      "2013-01-01  0.000000  0.000000  0.289240 -0.813057  NaN\n",
      "2013-01-02 -0.000286 -1.257760 -1.232549 -0.899191  1.0\n",
      "2013-01-03  0.404230 -0.880146 -1.593526  1.141695  2.0\n",
      "2013-01-04  0.100815  1.143710  0.467192  0.014952  3.0\n",
      "2013-01-05  0.944031 -0.653508  0.005439  0.316151  4.0\n",
      "2013-01-06 -0.305994 -1.372941 -2.900295  0.220700  5.0\n"
     ]
    }
   ],
   "source": [
    "df.iat[0,1]=0\n",
    "print(df)"
   ]
  },
  {
   "cell_type": "markdown",
   "metadata": {},
   "source": [
    "使用NumPy数组来赋值"
   ]
  },
  {
   "cell_type": "code",
   "execution_count": 34,
   "metadata": {
    "ExecuteTime": {
     "end_time": "2018-01-13T07:46:57.296301Z",
     "start_time": "2018-01-13T07:46:57.286273Z"
    },
    "scrolled": true
   },
   "outputs": [
    {
     "name": "stdout",
     "output_type": "stream",
     "text": [
      "                   A         B         C  D    F\n",
      "2013-01-01  0.000000  0.000000  0.289240  5  NaN\n",
      "2013-01-02 -0.000286 -1.257760 -1.232549  5  1.0\n",
      "2013-01-03  0.404230 -0.880146 -1.593526  5  2.0\n",
      "2013-01-04  0.100815  1.143710  0.467192  5  3.0\n",
      "2013-01-05  0.944031 -0.653508  0.005439  5  4.0\n",
      "2013-01-06 -0.305994 -1.372941 -2.900295  5  5.0\n"
     ]
    }
   ],
   "source": [
    "df.loc[:,'D']=np.array([5]*len(df))\n",
    "print(df)"
   ]
  },
  {
   "cell_type": "markdown",
   "metadata": {},
   "source": [
    "在过滤的同时进行赋值"
   ]
  },
  {
   "cell_type": "code",
   "execution_count": 35,
   "metadata": {
    "ExecuteTime": {
     "end_time": "2018-01-13T07:46:57.636646Z",
     "start_time": "2018-01-13T07:46:57.622610Z"
    }
   },
   "outputs": [
    {
     "name": "stdout",
     "output_type": "stream",
     "text": [
      "                   A         B         C  D    F\n",
      "2013-01-01  0.000000  0.000000 -0.289240 -5  NaN\n",
      "2013-01-02 -0.000286 -1.257760 -1.232549 -5 -1.0\n",
      "2013-01-03 -0.404230 -0.880146 -1.593526 -5 -2.0\n",
      "2013-01-04 -0.100815 -1.143710 -0.467192 -5 -3.0\n",
      "2013-01-05 -0.944031 -0.653508 -0.005439 -5 -4.0\n",
      "2013-01-06 -0.305994 -1.372941 -2.900295 -5 -5.0\n"
     ]
    }
   ],
   "source": [
    "df2=df.copy()\n",
    "df2[df2>0]=-df2\n",
    "print(df2)"
   ]
  },
  {
   "cell_type": "markdown",
   "metadata": {},
   "source": [
    "### 处理缺失数据\n",
    "Pandas主要使用```np.nan```来表示缺失数据。这个值不会加入在计算中。\n",
    "重新索引允许你对某一轴的索引进行更改/添加/删除操作。这会返回操作数据的拷贝对象。"
   ]
  },
  {
   "cell_type": "code",
   "execution_count": 36,
   "metadata": {
    "ExecuteTime": {
     "end_time": "2018-01-13T07:46:58.037021Z",
     "start_time": "2018-01-13T07:46:58.024986Z"
    }
   },
   "outputs": [
    {
     "name": "stdout",
     "output_type": "stream",
     "text": [
      "                   A         B         C  D    F    E\n",
      "2013-01-01  0.000000  0.000000  0.289240  5  NaN  1.0\n",
      "2013-01-02 -0.000286 -1.257760 -1.232549  5  1.0  1.0\n",
      "2013-01-03  0.404230 -0.880146 -1.593526  5  2.0  NaN\n",
      "2013-01-04  0.100815  1.143710  0.467192  5  3.0  NaN\n"
     ]
    }
   ],
   "source": [
    "df1=df.reindex(index=dates[0:4],columns=list(df.columns)+['E'])\n",
    "df1.loc[dates[0]:dates[1],'E']=1\n",
    "print(df1)"
   ]
  },
  {
   "cell_type": "markdown",
   "metadata": {},
   "source": [
    "删除含有缺失数据的行"
   ]
  },
  {
   "cell_type": "code",
   "execution_count": 37,
   "metadata": {
    "ExecuteTime": {
     "end_time": "2018-01-13T07:46:58.417311Z",
     "start_time": "2018-01-13T07:46:58.409315Z"
    }
   },
   "outputs": [
    {
     "name": "stdout",
     "output_type": "stream",
     "text": [
      "                   A        B         C  D    F    E\n",
      "2013-01-02 -0.000286 -1.25776 -1.232549  5  1.0  1.0\n"
     ]
    }
   ],
   "source": [
    "print(df1.dropna(how='any'))"
   ]
  },
  {
   "cell_type": "markdown",
   "metadata": {},
   "source": [
    "填充缺失数据"
   ]
  },
  {
   "cell_type": "code",
   "execution_count": 38,
   "metadata": {
    "ExecuteTime": {
     "end_time": "2018-01-13T07:46:58.746563Z",
     "start_time": "2018-01-13T07:46:58.738533Z"
    }
   },
   "outputs": [
    {
     "name": "stdout",
     "output_type": "stream",
     "text": [
      "                   A         B         C  D    F    E\n",
      "2013-01-01  0.000000  0.000000  0.289240  5  5.0  1.0\n",
      "2013-01-02 -0.000286 -1.257760 -1.232549  5  1.0  1.0\n",
      "2013-01-03  0.404230 -0.880146 -1.593526  5  2.0  5.0\n",
      "2013-01-04  0.100815  1.143710  0.467192  5  3.0  5.0\n"
     ]
    }
   ],
   "source": [
    "print(df1.fillna(value=5))"
   ]
  },
  {
   "cell_type": "markdown",
   "metadata": {},
   "source": [
    "获取数据中是```nan```的位置"
   ]
  },
  {
   "cell_type": "code",
   "execution_count": 39,
   "metadata": {
    "ExecuteTime": {
     "end_time": "2018-01-13T07:46:59.081650Z",
     "start_time": "2018-01-13T07:46:59.073646Z"
    }
   },
   "outputs": [
    {
     "name": "stdout",
     "output_type": "stream",
     "text": [
      "                A      B      C      D      F      E\n",
      "2013-01-01  False  False  False  False   True  False\n",
      "2013-01-02  False  False  False  False  False  False\n",
      "2013-01-03  False  False  False  False  False   True\n",
      "2013-01-04  False  False  False  False  False   True\n"
     ]
    }
   ],
   "source": [
    "print(pd.isnull(df1))"
   ]
  },
  {
   "cell_type": "markdown",
   "metadata": {},
   "source": [
    "### 基础操作\n",
    "#### 基本的统计\n",
    "操作默认排除了缺失的数据  \n",
    "执行一个描述性的统计"
   ]
  },
  {
   "cell_type": "code",
   "execution_count": 40,
   "metadata": {
    "ExecuteTime": {
     "end_time": "2018-01-13T07:46:59.497992Z",
     "start_time": "2018-01-13T07:46:59.491970Z"
    }
   },
   "outputs": [
    {
     "data": {
      "text/plain": [
       "A    0.190466\n",
       "B   -0.503441\n",
       "C   -0.827417\n",
       "D    5.000000\n",
       "F    3.000000\n",
       "dtype: float64"
      ]
     },
     "execution_count": 40,
     "metadata": {},
     "output_type": "execute_result"
    }
   ],
   "source": [
    "df.mean()"
   ]
  },
  {
   "cell_type": "markdown",
   "metadata": {
    "ExecuteTime": {
     "end_time": "2018-01-09T08:11:20.821022Z",
     "start_time": "2018-01-09T08:11:20.811020Z"
    }
   },
   "source": [
    "在另外的轴执行该操作"
   ]
  },
  {
   "cell_type": "code",
   "execution_count": 41,
   "metadata": {
    "ExecuteTime": {
     "end_time": "2018-01-13T07:46:59.877399Z",
     "start_time": "2018-01-13T07:46:59.863830Z"
    }
   },
   "outputs": [
    {
     "data": {
      "text/plain": [
       "2013-01-01    1.322310\n",
       "2013-01-02    0.701881\n",
       "2013-01-03    0.986111\n",
       "2013-01-04    1.942343\n",
       "2013-01-05    1.859192\n",
       "2013-01-06    1.084154\n",
       "Freq: D, dtype: float64"
      ]
     },
     "execution_count": 41,
     "metadata": {},
     "output_type": "execute_result"
    }
   ],
   "source": [
    "df.mean(1)"
   ]
  },
  {
   "cell_type": "markdown",
   "metadata": {},
   "source": [
    "对不同维度数据的操作需要进行校准。Pandas会自动的在指定的维数上应用广播。"
   ]
  },
  {
   "cell_type": "code",
   "execution_count": 42,
   "metadata": {
    "ExecuteTime": {
     "end_time": "2018-01-13T07:47:00.234625Z",
     "start_time": "2018-01-13T07:47:00.224598Z"
    }
   },
   "outputs": [
    {
     "name": "stdout",
     "output_type": "stream",
     "text": [
      "2013-01-01    NaN\n",
      "2013-01-02    NaN\n",
      "2013-01-03    1.0\n",
      "2013-01-04    3.0\n",
      "2013-01-05    5.0\n",
      "2013-01-06    NaN\n",
      "Freq: D, dtype: float64\n",
      "                   A         B         C    D    F\n",
      "2013-01-01       NaN       NaN       NaN  NaN  NaN\n",
      "2013-01-02       NaN       NaN       NaN  NaN  NaN\n",
      "2013-01-03 -0.595770 -1.880146 -2.593526  4.0  1.0\n",
      "2013-01-04 -2.899185 -1.856290 -2.532808  2.0  0.0\n",
      "2013-01-05 -4.055969 -5.653508 -4.994561  0.0 -1.0\n",
      "2013-01-06       NaN       NaN       NaN  NaN  NaN\n"
     ]
    }
   ],
   "source": [
    "s=pd.Series([1,3,5,np.nan,6,8],index=dates).shift(2)\n",
    "print(s)\n",
    "print(df.sub(s,axis='index'))"
   ]
  },
  {
   "cell_type": "markdown",
   "metadata": {},
   "source": [
    "#### 应用函数\n",
    "对数据应用函数"
   ]
  },
  {
   "cell_type": "code",
   "execution_count": 43,
   "metadata": {
    "ExecuteTime": {
     "end_time": "2018-01-13T07:47:00.621408Z",
     "start_time": "2018-01-13T07:47:00.605386Z"
    }
   },
   "outputs": [
    {
     "name": "stdout",
     "output_type": "stream",
     "text": [
      "                   A         B         C   D     F\n",
      "2013-01-01  0.000000  0.000000  0.289240   5   NaN\n",
      "2013-01-02 -0.000286 -1.257760 -0.943310  10   1.0\n",
      "2013-01-03  0.403943 -2.137906 -2.536836  15   3.0\n",
      "2013-01-04  0.504759 -0.994196 -2.069644  20   6.0\n",
      "2013-01-05  1.448789 -1.647704 -2.064205  25  10.0\n",
      "2013-01-06  1.142795 -3.020645 -4.964500  30  15.0\n"
     ]
    },
    {
     "data": {
      "text/plain": [
       "A    1.250025\n",
       "B    2.516651\n",
       "C    3.367487\n",
       "D    0.000000\n",
       "F    4.000000\n",
       "dtype: float64"
      ]
     },
     "execution_count": 43,
     "metadata": {},
     "output_type": "execute_result"
    }
   ],
   "source": [
    "print(df.apply(np.cumsum))\n",
    "df.apply(lambda x:x.max()-x.min())"
   ]
  },
  {
   "cell_type": "markdown",
   "metadata": {},
   "source": [
    "#### 直方图"
   ]
  },
  {
   "cell_type": "code",
   "execution_count": 44,
   "metadata": {
    "ExecuteTime": {
     "end_time": "2018-01-13T07:47:01.247458Z",
     "start_time": "2018-01-13T07:47:01.239436Z"
    }
   },
   "outputs": [
    {
     "name": "stdout",
     "output_type": "stream",
     "text": [
      "0    0\n",
      "1    0\n",
      "2    4\n",
      "3    1\n",
      "4    6\n",
      "5    6\n",
      "6    4\n",
      "7    3\n",
      "8    5\n",
      "9    1\n",
      "dtype: int32\n",
      "6    2\n",
      "4    2\n",
      "1    2\n",
      "0    2\n",
      "5    1\n",
      "3    1\n",
      "dtype: int64\n"
     ]
    }
   ],
   "source": [
    "s=pd.Series(np.random.randint(0,7,size=10))\n",
    "print(s)\n",
    "print(s.value_counts())"
   ]
  },
  {
   "cell_type": "markdown",
   "metadata": {},
   "source": [
    "#### 字符串函数\n",
    "在下面的代码中，Series可以在```str```属性中应用许多字符处理函数，可以更方便的处理数据中的每个元素。需要注意的是模式识别默认使用正则表达式。"
   ]
  },
  {
   "cell_type": "code",
   "execution_count": 45,
   "metadata": {
    "ExecuteTime": {
     "end_time": "2018-01-13T07:47:01.648120Z",
     "start_time": "2018-01-13T07:47:01.640099Z"
    }
   },
   "outputs": [
    {
     "data": {
      "text/plain": [
       "0       a\n",
       "1       b\n",
       "2       c\n",
       "3    aaba\n",
       "4    baca\n",
       "5     NaN\n",
       "6    caba\n",
       "7     dog\n",
       "8     cat\n",
       "dtype: object"
      ]
     },
     "execution_count": 45,
     "metadata": {},
     "output_type": "execute_result"
    }
   ],
   "source": [
    "s=pd.Series(['A','B','C','Aaba','Baca',np.nan,'CABA','dog','cat'])\n",
    "s.str.lower()"
   ]
  },
  {
   "cell_type": "markdown",
   "metadata": {},
   "source": [
    "### 数据合并\n",
    "#### 数据拼接\n",
    "Pandas提供了许多工具来根据索引逻辑和线性代数关系组合Series、DataFrame和Panel。\n",
    "用```concat()```组合Pandas数据"
   ]
  },
  {
   "cell_type": "code",
   "execution_count": 46,
   "metadata": {
    "ExecuteTime": {
     "end_time": "2018-01-13T07:47:02.215026Z",
     "start_time": "2018-01-13T07:47:02.199983Z"
    }
   },
   "outputs": [
    {
     "name": "stdout",
     "output_type": "stream",
     "text": [
      "          0         1         2         3\n",
      "0  0.868667 -1.127783 -1.339226 -0.018955\n",
      "1  2.154827 -0.183290  0.346383 -0.535674\n",
      "2  0.539159  0.598349 -0.959137 -1.371542\n",
      "3  0.526160 -0.675516  0.329515  2.741801\n",
      "4 -0.672261  0.277084  0.246108 -0.058672\n",
      "5  1.345204  0.267244 -0.976797  0.258268\n",
      "6 -1.134643  0.736464  0.632367  0.355589\n",
      "7 -0.388383  0.573309 -0.920222  1.232245\n",
      "8 -0.394164 -0.492838 -0.036512  0.965029\n",
      "9 -0.219411  1.003898 -0.033570  1.059801\n",
      "          0         1         2         3\n",
      "0  0.868667 -1.127783 -1.339226 -0.018955\n",
      "1  2.154827 -0.183290  0.346383 -0.535674\n",
      "2  0.539159  0.598349 -0.959137 -1.371542\n",
      "3  0.526160 -0.675516  0.329515  2.741801\n",
      "4 -0.672261  0.277084  0.246108 -0.058672\n",
      "5  1.345204  0.267244 -0.976797  0.258268\n",
      "6 -1.134643  0.736464  0.632367  0.355589\n",
      "7 -0.388383  0.573309 -0.920222  1.232245\n",
      "8 -0.394164 -0.492838 -0.036512  0.965029\n",
      "9 -0.219411  1.003898 -0.033570  1.059801\n"
     ]
    }
   ],
   "source": [
    "df=pd.DataFrame(np.random.randn(10,4))\n",
    "print(df)\n",
    "pieces=[df[:3],df[3:7],df[7:]]\n",
    "print(pd.concat(pieces))"
   ]
  },
  {
   "cell_type": "markdown",
   "metadata": {},
   "source": [
    "#### 数据关联\n",
    "SQL形式"
   ]
  },
  {
   "cell_type": "code",
   "execution_count": 47,
   "metadata": {
    "ExecuteTime": {
     "end_time": "2018-01-13T07:47:02.608433Z",
     "start_time": "2018-01-13T07:47:02.591388Z"
    }
   },
   "outputs": [
    {
     "name": "stdout",
     "output_type": "stream",
     "text": [
      "   key  lval\n",
      "0  foo     1\n",
      "1  foo     2\n",
      "   key  rval\n",
      "0  foo     4\n",
      "1  foo     5\n",
      "   key  lval  rval\n",
      "0  foo     1     4\n",
      "1  foo     1     5\n",
      "2  foo     2     4\n",
      "3  foo     2     5\n"
     ]
    }
   ],
   "source": [
    "left=pd.DataFrame({'key':['foo','foo'],'lval':[1,2]})\n",
    "right=pd.DataFrame({'key':['foo','foo'],'rval':[4,5]})\n",
    "print(left)\n",
    "print(right)\n",
    "print(pd.merge(left,right,on='key'))"
   ]
  },
  {
   "cell_type": "code",
   "execution_count": 48,
   "metadata": {
    "ExecuteTime": {
     "end_time": "2018-01-13T07:47:02.660585Z",
     "start_time": "2018-01-13T07:47:02.643528Z"
    }
   },
   "outputs": [
    {
     "name": "stdout",
     "output_type": "stream",
     "text": [
      "   key  lval\n",
      "0  foo     1\n",
      "1  bar     2\n",
      "   key  rval\n",
      "0  foo     4\n",
      "1  bar     5\n",
      "   key  lval  rval\n",
      "0  foo     1     4\n",
      "1  bar     2     5\n"
     ]
    }
   ],
   "source": [
    "left=pd.DataFrame({'key':['foo','bar'],'lval':[1,2]})\n",
    "right=pd.DataFrame({'key':['foo','bar'],'rval':[4,5]})\n",
    "print(left)\n",
    "print(right)\n",
    "print(pd.merge(left,right,on='key'))"
   ]
  },
  {
   "cell_type": "markdown",
   "metadata": {},
   "source": [
    "#### 添加数据（Append）\n",
    "给DataFrame添加行"
   ]
  },
  {
   "cell_type": "code",
   "execution_count": 49,
   "metadata": {
    "ExecuteTime": {
     "end_time": "2018-01-13T07:47:03.070830Z",
     "start_time": "2018-01-13T07:47:03.053277Z"
    }
   },
   "outputs": [
    {
     "name": "stdout",
     "output_type": "stream",
     "text": [
      "          A         B         C         D\n",
      "0 -0.379925 -1.017542 -0.189007 -0.428325\n",
      "1 -0.276408 -0.715901 -1.319698 -0.222887\n",
      "2  1.107723  0.353094  0.815195 -1.440487\n",
      "3 -0.033881  0.514738  0.290243 -0.573637\n",
      "4  0.425776 -0.074674 -0.002662  0.963586\n",
      "5  1.982210  1.058390 -0.605711  0.338158\n",
      "6  0.444923  0.802376  1.287365 -0.076757\n",
      "7  1.079877  0.937892  1.511644 -1.344911\n",
      "          A         B         C         D\n",
      "0 -0.379925 -1.017542 -0.189007 -0.428325\n",
      "1 -0.276408 -0.715901 -1.319698 -0.222887\n",
      "2  1.107723  0.353094  0.815195 -1.440487\n",
      "3 -0.033881  0.514738  0.290243 -0.573637\n",
      "4  0.425776 -0.074674 -0.002662  0.963586\n",
      "5  1.982210  1.058390 -0.605711  0.338158\n",
      "6  0.444923  0.802376  1.287365 -0.076757\n",
      "7  1.079877  0.937892  1.511644 -1.344911\n",
      "8 -0.033881  0.514738  0.290243 -0.573637\n"
     ]
    }
   ],
   "source": [
    "df=pd.DataFrame(np.random.randn(8,4),columns=['A','B','C','D'])\n",
    "print(df)\n",
    "s=df.iloc[3]\n",
    "print(df.append(s,ignore_index=True))"
   ]
  },
  {
   "cell_type": "markdown",
   "metadata": {},
   "source": [
    "### 分组\n",
    "分组包含以下的一个或多个流程：\n",
    " - 分组 根据某种标准分组数据\n",
    " - 应用 对每个组应用一个函数\n",
    " - 组合 把分组的结果组合成一个整体结构"
   ]
  },
  {
   "cell_type": "code",
   "execution_count": 50,
   "metadata": {
    "ExecuteTime": {
     "end_time": "2018-01-13T07:47:03.520375Z",
     "start_time": "2018-01-13T07:47:03.510323Z"
    }
   },
   "outputs": [
    {
     "name": "stdout",
     "output_type": "stream",
     "text": [
      "     A      B         C         D\n",
      "0  foo    one  0.596282  0.822393\n",
      "1  bar    one -1.426678  0.106148\n",
      "2  foo    two -0.776830 -0.496158\n",
      "3  bar  three  0.954765  1.579897\n",
      "4  foo    two -0.127376 -0.793390\n",
      "5  bar    two -0.231712 -0.055958\n",
      "6  foo    one  0.576690  0.757426\n",
      "7  foo  three -1.365990 -1.358562\n"
     ]
    }
   ],
   "source": [
    "df=pd.DataFrame({'A':['foo','bar','foo','bar','foo','bar','foo','foo'],'B' : ['one', 'one', 'two', 'three',\n",
    "                              'two', 'two', 'one', 'three'],\n",
    "                       'C' : np.random.randn(8),\n",
    "                      'D' : np.random.randn(8)})\n",
    "print(df)"
   ]
  },
  {
   "cell_type": "markdown",
   "metadata": {},
   "source": [
    "分组并对分组后的结果求和"
   ]
  },
  {
   "cell_type": "code",
   "execution_count": 51,
   "metadata": {
    "ExecuteTime": {
     "end_time": "2018-01-13T07:47:03.930178Z",
     "start_time": "2018-01-13T07:47:03.922156Z"
    }
   },
   "outputs": [
    {
     "name": "stdout",
     "output_type": "stream",
     "text": [
      "            C         D\n",
      "A                      \n",
      "bar -0.703626  1.630087\n",
      "foo -1.097224 -1.068291\n"
     ]
    }
   ],
   "source": [
    "print(df.groupby('A').sum())"
   ]
  },
  {
   "cell_type": "markdown",
   "metadata": {},
   "source": [
    "根据多个列进行分组可以如下操作"
   ]
  },
  {
   "cell_type": "code",
   "execution_count": 52,
   "metadata": {
    "ExecuteTime": {
     "end_time": "2018-01-13T07:47:04.352567Z",
     "start_time": "2018-01-13T07:47:04.341537Z"
    }
   },
   "outputs": [
    {
     "name": "stdout",
     "output_type": "stream",
     "text": [
      "                  C         D\n",
      "A   B                        \n",
      "bar one   -1.426678  0.106148\n",
      "    three  0.954765  1.579897\n",
      "    two   -0.231712 -0.055958\n",
      "foo one    1.172971  1.579818\n",
      "    three -1.365990 -1.358562\n",
      "    two   -0.904206 -1.289548\n"
     ]
    }
   ],
   "source": [
    "print(df.groupby(['A','B']).sum())"
   ]
  },
  {
   "cell_type": "markdown",
   "metadata": {},
   "source": [
    "### 改变数据形状\n",
    "#### 压缩"
   ]
  },
  {
   "cell_type": "code",
   "execution_count": 53,
   "metadata": {
    "ExecuteTime": {
     "end_time": "2018-01-13T07:47:04.749020Z",
     "start_time": "2018-01-13T07:47:04.735984Z"
    }
   },
   "outputs": [
    {
     "name": "stdout",
     "output_type": "stream",
     "text": [
      "[('bar', 'one'), ('bar', 'two'), ('baz', 'one'), ('baz', 'two'), ('foo', 'one'), ('foo', 'two'), ('qux', 'one'), ('qux', 'two')]\n",
      "                     A         B\n",
      "first second                    \n",
      "bar   one    -0.482216 -1.720165\n",
      "      two    -1.788449 -0.475704\n",
      "baz   one    -0.757266 -0.026047\n",
      "      two    -1.799689 -0.641557\n"
     ]
    }
   ],
   "source": [
    "tuples = list(zip(*[['bar', 'bar', 'baz', 'baz',\n",
    "                         'foo', 'foo', 'qux', 'qux'],\n",
    "                        ['one', 'two', 'one', 'two',\n",
    "                         'one', 'two', 'one', 'two']]))\n",
    "print(tuples)\n",
    "index=pd.MultiIndex.from_tuples(tuples,names=['first','second'])\n",
    "df=pd.DataFrame(np.random.randn(8,2),index=index,columns=['A','B'])\n",
    "df2 = df[:4]\n",
    "print(df2)"
   ]
  },
  {
   "cell_type": "markdown",
   "metadata": {},
   "source": [
    "```stack()```函数压缩了这个DataFrame中的一列"
   ]
  },
  {
   "cell_type": "code",
   "execution_count": 54,
   "metadata": {
    "ExecuteTime": {
     "end_time": "2018-01-13T07:47:05.126082Z",
     "start_time": "2018-01-13T07:47:05.118030Z"
    }
   },
   "outputs": [
    {
     "data": {
      "text/plain": [
       "first  second   \n",
       "bar    one     A   -0.482216\n",
       "               B   -1.720165\n",
       "       two     A   -1.788449\n",
       "               B   -0.475704\n",
       "baz    one     A   -0.757266\n",
       "               B   -0.026047\n",
       "       two     A   -1.799689\n",
       "               B   -0.641557\n",
       "dtype: float64"
      ]
     },
     "execution_count": 54,
     "metadata": {},
     "output_type": "execute_result"
    }
   ],
   "source": [
    "stacked=df2.stack()\n",
    "stacked"
   ]
  },
  {
   "cell_type": "markdown",
   "metadata": {},
   "source": [
    "对于压缩之后的DataFrame，能够使用和```stack()```函数相反的```unstack()```函数，默认会解压缩最后一列"
   ]
  },
  {
   "cell_type": "code",
   "execution_count": 55,
   "metadata": {
    "ExecuteTime": {
     "end_time": "2018-01-13T07:47:05.555850Z",
     "start_time": "2018-01-13T07:47:05.538831Z"
    }
   },
   "outputs": [
    {
     "name": "stdout",
     "output_type": "stream",
     "text": [
      "                     A         B\n",
      "first second                    \n",
      "bar   one    -0.482216 -1.720165\n",
      "      two    -1.788449 -0.475704\n",
      "baz   one    -0.757266 -0.026047\n",
      "      two    -1.799689 -0.641557\n",
      "second        one       two\n",
      "first                      \n",
      "bar   A -0.482216 -1.788449\n",
      "      B -1.720165 -0.475704\n",
      "baz   A -0.757266 -1.799689\n",
      "      B -0.026047 -0.641557\n",
      "first          bar       baz\n",
      "second                      \n",
      "one    A -0.482216 -0.757266\n",
      "       B -1.720165 -0.026047\n",
      "two    A -1.788449 -1.799689\n",
      "       B -0.475704 -0.641557\n"
     ]
    }
   ],
   "source": [
    "print(stacked.unstack())\n",
    "print(stacked.unstack(1))\n",
    "print(stacked.unstack(0))"
   ]
  },
  {
   "cell_type": "markdown",
   "metadata": {},
   "source": [
    "#### 数据透视表"
   ]
  },
  {
   "cell_type": "code",
   "execution_count": 56,
   "metadata": {
    "ExecuteTime": {
     "end_time": "2018-01-13T07:47:05.963870Z",
     "start_time": "2018-01-13T07:47:05.950849Z"
    }
   },
   "outputs": [
    {
     "name": "stdout",
     "output_type": "stream",
     "text": [
      "        A  B    C         D         E\n",
      "0     one  A  foo -0.652781 -0.720116\n",
      "1     one  B  foo -0.515266  1.109243\n",
      "2     two  C  foo  0.724732 -0.012487\n",
      "3   three  A  bar  1.591435 -0.949670\n",
      "4     one  B  bar  0.596480 -0.403556\n",
      "5     one  C  bar -2.191866  0.291499\n",
      "6     two  A  foo -0.835479 -0.749321\n",
      "7   three  B  foo  0.147051 -0.299110\n",
      "8     one  C  foo  0.519447 -0.016910\n",
      "9     one  A  bar  0.482567 -2.322476\n",
      "10    two  B  bar  0.350926  0.135206\n",
      "11  three  C  bar  0.731305 -1.064031\n"
     ]
    }
   ],
   "source": [
    "df=pd.DataFrame({'A':['one','one','two','three']*3,\n",
    "                'B':['A','B','C']*4,\n",
    "                'C':['foo', 'foo', 'foo', 'bar', 'bar', 'bar'] * 2,\n",
    "                'D':np.random.randn(12),\n",
    "                'E':np.random.randn(12)})\n",
    "print(df)"
   ]
  },
  {
   "cell_type": "markdown",
   "metadata": {},
   "source": [
    "我们可以非常简单的用上面的数据生成一张数据透视表:"
   ]
  },
  {
   "cell_type": "code",
   "execution_count": 57,
   "metadata": {
    "ExecuteTime": {
     "end_time": "2018-01-13T07:47:06.489300Z",
     "start_time": "2018-01-13T07:47:06.472752Z"
    }
   },
   "outputs": [
    {
     "name": "stdout",
     "output_type": "stream",
     "text": [
      "C             bar       foo\n",
      "A     B                    \n",
      "one   A  0.482567 -0.652781\n",
      "      B  0.596480 -0.515266\n",
      "      C -2.191866  0.519447\n",
      "three A  1.591435       NaN\n",
      "      B       NaN  0.147051\n",
      "      C  0.731305       NaN\n",
      "two   A       NaN -0.835479\n",
      "      B  0.350926       NaN\n",
      "      C       NaN  0.724732\n"
     ]
    }
   ],
   "source": [
    "print(pd.pivot_table(df,values='D',index=['A','B'],columns=['C']))"
   ]
  },
  {
   "cell_type": "markdown",
   "metadata": {},
   "source": [
    "### 时间序列\n",
    "Pandas拥有易用、强大且高效的方法来在频率变换中执行重采样操作（例如：把秒级别的数据转换成5分钟级别的数据）。这通常在金融应用中使用，但不仅限于金融应用。"
   ]
  },
  {
   "cell_type": "code",
   "execution_count": 58,
   "metadata": {
    "ExecuteTime": {
     "end_time": "2018-01-13T07:47:06.995285Z",
     "start_time": "2018-01-13T07:47:06.979238Z"
    }
   },
   "outputs": [
    {
     "data": {
      "text/plain": [
       "2012-01-01    25308\n",
       "Freq: 5T, dtype: int32"
      ]
     },
     "execution_count": 58,
     "metadata": {},
     "output_type": "execute_result"
    }
   ],
   "source": [
    "rng=pd.date_range('1/1/2012',periods=100,freq='S')\n",
    "ts=pd.Series(np.random.randint(0,500,len(rng)),index=rng)\n",
    "ts.resample('5Min').sum()\n"
   ]
  },
  {
   "cell_type": "markdown",
   "metadata": {},
   "source": [
    "表现时区"
   ]
  },
  {
   "cell_type": "code",
   "execution_count": 59,
   "metadata": {
    "ExecuteTime": {
     "end_time": "2018-01-13T07:47:07.442870Z",
     "start_time": "2018-01-13T07:47:07.423820Z"
    }
   },
   "outputs": [
    {
     "name": "stdout",
     "output_type": "stream",
     "text": [
      "2012-03-06    1.228351\n",
      "2012-03-07   -0.699147\n",
      "2012-03-08   -0.094176\n",
      "2012-03-09    1.070865\n",
      "2012-03-10    2.647150\n",
      "Freq: D, dtype: float64\n"
     ]
    },
    {
     "data": {
      "text/plain": [
       "2012-03-06 00:00:00+00:00    1.228351\n",
       "2012-03-07 00:00:00+00:00   -0.699147\n",
       "2012-03-08 00:00:00+00:00   -0.094176\n",
       "2012-03-09 00:00:00+00:00    1.070865\n",
       "2012-03-10 00:00:00+00:00    2.647150\n",
       "Freq: D, dtype: float64"
      ]
     },
     "execution_count": 59,
     "metadata": {},
     "output_type": "execute_result"
    }
   ],
   "source": [
    "rng=pd.date_range('3/6/2012 00:00',periods=5,freq='D')\n",
    "ts=pd.Series(np.random.randn(len(rng)),rng)\n",
    "print(ts)\n",
    "ts_utc=ts.tz_localize('UTC')\n",
    "ts_utc"
   ]
  },
  {
   "cell_type": "markdown",
   "metadata": {},
   "source": [
    "转换到其他时区"
   ]
  },
  {
   "cell_type": "code",
   "execution_count": 60,
   "metadata": {
    "ExecuteTime": {
     "end_time": "2018-01-13T07:47:08.002107Z",
     "start_time": "2018-01-13T07:47:07.892132Z"
    }
   },
   "outputs": [
    {
     "data": {
      "text/plain": [
       "2012-03-05 19:00:00-05:00    1.228351\n",
       "2012-03-06 19:00:00-05:00   -0.699147\n",
       "2012-03-07 19:00:00-05:00   -0.094176\n",
       "2012-03-08 19:00:00-05:00    1.070865\n",
       "2012-03-09 19:00:00-05:00    2.647150\n",
       "Freq: D, dtype: float64"
      ]
     },
     "execution_count": 60,
     "metadata": {},
     "output_type": "execute_result"
    }
   ],
   "source": [
    "ts_utc.tz_convert('US/Eastern')"
   ]
  },
  {
   "cell_type": "markdown",
   "metadata": {},
   "source": [
    "转换时间间隔的表现形式"
   ]
  },
  {
   "cell_type": "code",
   "execution_count": 61,
   "metadata": {
    "ExecuteTime": {
     "end_time": "2018-01-13T07:47:08.496275Z",
     "start_time": "2018-01-13T07:47:08.472708Z"
    }
   },
   "outputs": [
    {
     "name": "stdout",
     "output_type": "stream",
     "text": [
      "2012-01-31   -0.046642\n",
      "2012-02-29    0.164101\n",
      "2012-03-31    0.249671\n",
      "2012-04-30    0.499200\n",
      "2012-05-31    0.008723\n",
      "Freq: M, dtype: float64\n",
      "2012-01   -0.046642\n",
      "2012-02    0.164101\n",
      "2012-03    0.249671\n",
      "2012-04    0.499200\n",
      "2012-05    0.008723\n",
      "Freq: M, dtype: float64\n"
     ]
    },
    {
     "data": {
      "text/plain": [
       "2012-01-01   -0.046642\n",
       "2012-02-01    0.164101\n",
       "2012-03-01    0.249671\n",
       "2012-04-01    0.499200\n",
       "2012-05-01    0.008723\n",
       "Freq: MS, dtype: float64"
      ]
     },
     "execution_count": 61,
     "metadata": {},
     "output_type": "execute_result"
    }
   ],
   "source": [
    "rng=pd.date_range('1/1/2012',periods=5,freq='M')\n",
    "ts=pd.Series(np.random.randn(len(rng)),index=rng)\n",
    "print(ts)\n",
    "ps=ts.to_period()\n",
    "print(ps)\n",
    "ps.to_timestamp()"
   ]
  },
  {
   "cell_type": "markdown",
   "metadata": {},
   "source": [
    "### 标签数据\n",
    "Pandas可以在DataFrame中包含标签数据。"
   ]
  },
  {
   "cell_type": "code",
   "execution_count": 62,
   "metadata": {
    "ExecuteTime": {
     "end_time": "2018-01-13T07:47:08.855260Z",
     "start_time": "2018-01-13T07:47:08.849230Z"
    }
   },
   "outputs": [],
   "source": [
    "df=pd.DataFrame({'id':[1,2,3,4,5,6],'raw_grade':['a','b','b','a','a','e']})"
   ]
  },
  {
   "cell_type": "markdown",
   "metadata": {},
   "source": [
    "将原始数据转换成标签数据"
   ]
  },
  {
   "cell_type": "code",
   "execution_count": 63,
   "metadata": {
    "ExecuteTime": {
     "end_time": "2018-01-13T07:47:09.365220Z",
     "start_time": "2018-01-13T07:47:09.358201Z"
    }
   },
   "outputs": [
    {
     "data": {
      "text/plain": [
       "0    a\n",
       "1    b\n",
       "2    b\n",
       "3    a\n",
       "4    a\n",
       "5    e\n",
       "Name: grade, dtype: category\n",
       "Categories (3, object): [a, b, e]"
      ]
     },
     "execution_count": 63,
     "metadata": {},
     "output_type": "execute_result"
    }
   ],
   "source": [
    "df['grade']=df['raw_grade'].astype('category')\n",
    "df['grade']"
   ]
  },
  {
   "cell_type": "markdown",
   "metadata": {},
   "source": [
    "将标签重命名成更有意义的名字（对```Series.cat.categories```的赋值是没有申请新内存的）"
   ]
  },
  {
   "cell_type": "code",
   "execution_count": 64,
   "metadata": {
    "ExecuteTime": {
     "end_time": "2018-01-13T07:47:09.883685Z",
     "start_time": "2018-01-13T07:47:09.876669Z"
    }
   },
   "outputs": [
    {
     "data": {
      "text/plain": [
       "0    very good\n",
       "1         good\n",
       "2         good\n",
       "3    very good\n",
       "4    very good\n",
       "5     very bad\n",
       "Name: grade, dtype: category\n",
       "Categories (3, object): [very good, good, very bad]"
      ]
     },
     "execution_count": 64,
     "metadata": {},
     "output_type": "execute_result"
    }
   ],
   "source": [
    "df['grade'].cat.categories=['very good','good','very bad']\n",
    "df['grade']"
   ]
  },
  {
   "cell_type": "markdown",
   "metadata": {},
   "source": [
    "重排序标签并且同时增加缺失的标签（在```Series.cat```包下的函数默认返回新的```Series```）"
   ]
  },
  {
   "cell_type": "code",
   "execution_count": 65,
   "metadata": {
    "ExecuteTime": {
     "end_time": "2018-01-13T07:47:10.426981Z",
     "start_time": "2018-01-13T07:47:10.418958Z"
    }
   },
   "outputs": [
    {
     "data": {
      "text/plain": [
       "0    very good\n",
       "1         good\n",
       "2         good\n",
       "3    very good\n",
       "4    very good\n",
       "5     very bad\n",
       "Name: grade, dtype: category\n",
       "Categories (5, object): [very bad, bad, medium, good, very good]"
      ]
     },
     "execution_count": 65,
     "metadata": {},
     "output_type": "execute_result"
    }
   ],
   "source": [
    "df['grade']=df['grade'].cat.set_categories(['very bad','bad','medium','good','very good'])\n",
    "df['grade']"
   ]
  },
  {
   "cell_type": "markdown",
   "metadata": {},
   "source": [
    "排序是根据标签排序的，而不是字典序"
   ]
  },
  {
   "cell_type": "code",
   "execution_count": 66,
   "metadata": {
    "ExecuteTime": {
     "end_time": "2018-01-13T07:47:11.013855Z",
     "start_time": "2018-01-13T07:47:11.006835Z"
    }
   },
   "outputs": [
    {
     "name": "stdout",
     "output_type": "stream",
     "text": [
      "   id raw_grade      grade\n",
      "5   6         e   very bad\n",
      "1   2         b       good\n",
      "2   3         b       good\n",
      "0   1         a  very good\n",
      "3   4         a  very good\n",
      "4   5         a  very good\n"
     ]
    }
   ],
   "source": [
    "print(df.sort_values(by='grade'))"
   ]
  },
  {
   "cell_type": "markdown",
   "metadata": {
    "ExecuteTime": {
     "end_time": "2018-01-13T06:42:24.713437Z",
     "start_time": "2018-01-13T06:42:24.700894Z"
    }
   },
   "source": [
    "对标签数据分组时同样会显示空标签"
   ]
  },
  {
   "cell_type": "code",
   "execution_count": 67,
   "metadata": {
    "ExecuteTime": {
     "end_time": "2018-01-13T07:47:11.597351Z",
     "start_time": "2018-01-13T07:47:11.590358Z"
    }
   },
   "outputs": [
    {
     "data": {
      "text/plain": [
       "grade\n",
       "very bad     1\n",
       "bad          0\n",
       "medium       0\n",
       "good         2\n",
       "very good    3\n",
       "dtype: int64"
      ]
     },
     "execution_count": 67,
     "metadata": {},
     "output_type": "execute_result"
    }
   ],
   "source": [
    "df.groupby('grade').size()"
   ]
  },
  {
   "cell_type": "markdown",
   "metadata": {},
   "source": [
    "### 绘图"
   ]
  },
  {
   "cell_type": "code",
   "execution_count": 68,
   "metadata": {
    "ExecuteTime": {
     "end_time": "2018-01-13T07:47:12.401288Z",
     "start_time": "2018-01-13T07:47:12.186099Z"
    }
   },
   "outputs": [
    {
     "data": {
      "text/plain": [
       "<matplotlib.axes._subplots.AxesSubplot at 0x18a4171d240>"
      ]
     },
     "execution_count": 68,
     "metadata": {},
     "output_type": "execute_result"
    },
    {
     "data": {
      "image/png": "[encoded data removed]",
      "text/plain": [
       "<matplotlib.figure.Figure at 0x18a416e6630>"
      ]
     },
     "metadata": {},
     "output_type": "display_data"
    }
   ],
   "source": [
    "ts=pd.Series(np.random.randn(1000),index=pd.date_range('1/1/2000',periods=1000))\n",
    "ts=ts.cumsum()\n",
    "ts.plot()"
   ]
  },
  {
   "cell_type": "markdown",
   "metadata": {},
   "source": [
    "在DataFrame上，```plot()```是一个函数可以方便地对数据的每个列进行绘图"
   ]
  },
  {
   "cell_type": "code",
   "execution_count": 69,
   "metadata": {
    "ExecuteTime": {
     "end_time": "2018-01-13T07:47:13.098274Z",
     "start_time": "2018-01-13T07:47:12.787162Z"
    }
   },
   "outputs": [
    {
     "data": {
      "text/plain": [
       "<matplotlib.axes._subplots.AxesSubplot at 0x18a447b0ba8>"
      ]
     },
     "execution_count": 69,
     "metadata": {},
     "output_type": "execute_result"
    },
    {
     "data": {
      "image/png": "[encoded data removed]",
      "text/plain": [
       "<matplotlib.figure.Figure at 0x18a447a6f98>"
      ]
     },
     "metadata": {},
     "output_type": "display_data"
    }
   ],
   "source": [
    "df=pd.DataFrame(np.random.randn(1000,4),index=ts.index,columns=['A','B','C','D'])\n",
    "df=df.cumsum()\n",
    "df.plot()\n"
   ]
  },
  {
   "cell_type": "markdown",
   "metadata": {},
   "source": [
    "### 数据获取与导出\n",
    "#### CSV\n",
    "保存数据到csv文件中"
   ]
  },
  {
   "cell_type": "code",
   "execution_count": 70,
   "metadata": {
    "ExecuteTime": {
     "end_time": "2018-01-13T07:47:13.440814Z",
     "start_time": "2018-01-13T07:47:13.418780Z"
    }
   },
   "outputs": [],
   "source": [
    "df.to_csv('foo.csv')"
   ]
  },
  {
   "cell_type": "markdown",
   "metadata": {},
   "source": [
    "从csv中读取数据"
   ]
  },
  {
   "cell_type": "code",
   "execution_count": 71,
   "metadata": {
    "ExecuteTime": {
     "end_time": "2018-01-13T07:47:14.067226Z",
     "start_time": "2018-01-13T07:47:14.055193Z"
    },
    "scrolled": true
   },
   "outputs": [
    {
     "name": "stdout",
     "output_type": "stream",
     "text": [
      "   Unnamed: 0         A         B         C         D\n",
      "0  2000-01-01  0.573685  0.254583 -1.007374  0.475982\n",
      "1  2000-01-02  0.027795  2.640388 -0.866092 -1.642860\n",
      "2  2000-01-03 -1.298852  2.205553 -1.189777 -1.829773\n",
      "3  2000-01-04 -0.350564  0.717657 -1.497301 -3.179510\n",
      "4  2000-01-05  1.732001  1.939669 -2.658425 -4.195840\n",
      "5  2000-01-06  0.457319  2.281939 -1.612770 -4.582275\n",
      "6  2000-01-07  0.571856  2.053347 -3.937807 -5.300862\n",
      "7  2000-01-08  3.242640  2.280455 -4.378306 -5.054595\n",
      "8  2000-01-09  2.884421  2.906835 -3.156276 -5.133953\n",
      "9  2000-01-10  2.486527  3.205170 -3.407170 -5.450735\n"
     ]
    }
   ],
   "source": [
    "df=pd.read_csv('foo.csv')\n",
    "print(df[:10])"
   ]
  },
  {
   "cell_type": "markdown",
   "metadata": {},
   "source": [
    "#### HDF5\n",
    "生成HDF5存储（需要安装tables库 ```pip3 install tables```）"
   ]
  },
  {
   "cell_type": "code",
   "execution_count": 72,
   "metadata": {
    "ExecuteTime": {
     "end_time": "2018-01-13T07:47:14.639399Z",
     "start_time": "2018-01-13T07:47:14.572526Z"
    }
   },
   "outputs": [],
   "source": [
    "df.to_hdf('foo.h5','df')"
   ]
  },
  {
   "cell_type": "markdown",
   "metadata": {},
   "source": [
    "从HDF5存储中读取数据"
   ]
  },
  {
   "cell_type": "code",
   "execution_count": 73,
   "metadata": {
    "ExecuteTime": {
     "end_time": "2018-01-13T07:47:20.537861Z",
     "start_time": "2018-01-13T07:47:20.519813Z"
    }
   },
   "outputs": [
    {
     "name": "stdout",
     "output_type": "stream",
     "text": [
      "   Unnamed: 0         A         B         C         D\n",
      "0  2000-01-01  0.573685  0.254583 -1.007374  0.475982\n",
      "1  2000-01-02  0.027795  2.640388 -0.866092 -1.642860\n",
      "2  2000-01-03 -1.298852  2.205553 -1.189777 -1.829773\n",
      "3  2000-01-04 -0.350564  0.717657 -1.497301 -3.179510\n",
      "4  2000-01-05  1.732001  1.939669 -2.658425 -4.195840\n",
      "5  2000-01-06  0.457319  2.281939 -1.612770 -4.582275\n",
      "6  2000-01-07  0.571856  2.053347 -3.937807 -5.300862\n",
      "7  2000-01-08  3.242640  2.280455 -4.378306 -5.054595\n",
      "8  2000-01-09  2.884421  2.906835 -3.156276 -5.133953\n",
      "9  2000-01-10  2.486527  3.205170 -3.407170 -5.450735\n"
     ]
    }
   ],
   "source": [
    "df=pd.read_hdf('foo.h5','df')\n",
    "print(df[:10])"
   ]
  },
  {
   "cell_type": "markdown",
   "metadata": {},
   "source": [
    "#### Excel\n",
    "生成Excel文件（需要安装openpyxl库```pip3 install openpyxl```）"
   ]
  },
  {
   "cell_type": "code",
   "execution_count": 74,
   "metadata": {
    "ExecuteTime": {
     "end_time": "2018-01-13T07:47:21.522778Z",
     "start_time": "2018-01-13T07:47:20.692815Z"
    }
   },
   "outputs": [],
   "source": [
    "df.to_excel('foo.xlsx',sheet_name='Sheet01')"
   ]
  },
  {
   "cell_type": "markdown",
   "metadata": {},
   "source": [
    "从Excel中读取数据"
   ]
  },
  {
   "cell_type": "code",
   "execution_count": 75,
   "metadata": {
    "ExecuteTime": {
     "end_time": "2018-01-13T07:47:21.631120Z",
     "start_time": "2018-01-13T07:47:21.524783Z"
    }
   },
   "outputs": [
    {
     "name": "stdout",
     "output_type": "stream",
     "text": [
      "   Unnamed: 0         A         B         C         D\n",
      "0  2000-01-01  0.573685  0.254583 -1.007374  0.475982\n",
      "1  2000-01-02  0.027795  2.640388 -0.866092 -1.642860\n",
      "2  2000-01-03 -1.298852  2.205553 -1.189777 -1.829773\n",
      "3  2000-01-04 -0.350564  0.717657 -1.497301 -3.179510\n",
      "4  2000-01-05  1.732001  1.939669 -2.658425 -4.195840\n",
      "5  2000-01-06  0.457319  2.281939 -1.612770 -4.582275\n",
      "6  2000-01-07  0.571856  2.053347 -3.937807 -5.300862\n",
      "7  2000-01-08  3.242640  2.280455 -4.378306 -5.054595\n",
      "8  2000-01-09  2.884421  2.906835 -3.156276 -5.133953\n",
      "9  2000-01-10  2.486527  3.205170 -3.407170 -5.450735\n"
     ]
    }
   ],
   "source": [
    "print(pd.read_excel('foo.xlsx', 'Sheet01',\n",
    "                    index_col=None, na_values=['NA'])[:10])"
   ]
  }
 ],
 "metadata": {
  "kernelspec": {
   "display_name": "Python 3",
   "language": "python",
   "name": "python3"
  },
  "language_info": {
   "codemirror_mode": {
    "name": "ipython",
    "version": 3
   },
   "file_extension": ".py",
   "mimetype": "text/x-python",
   "name": "python",
   "nbconvert_exporter": "python",
   "pygments_lexer": "ipython3",
   "version": "3.5.3"
  },
  "toc": {
   "nav_menu": {},
   "number_sections": true,
   "sideBar": true,
   "skip_h1_title": false,
   "toc_cell": false,
   "toc_position": {},
   "toc_section_display": "block",
   "toc_window_display": false
  },
  "varInspector": {
   "cols": {
    "lenName": 16,
    "lenType": 16,
    "lenVar": 40
   },
   "kernels_config": {
    "python": {
     "delete_cmd_postfix": "",
     "delete_cmd_prefix": "del ",
     "library": "var_list.py",
     "varRefreshCmd": "print(var_dic_list())"
    },
    "r": {
     "delete_cmd_postfix": ") ",
     "delete_cmd_prefix": "rm(",
     "library": "var_list.r",
     "varRefreshCmd": "cat(var_dic_list()) "
    }
   },
   "types_to_exclude": [
    "module",
    "function",
    "builtin_function_or_method",
    "instance",
    "_Feature"
   ],
   "window_display": false
  }
 },
 "nbformat": 4,
 "nbformat_minor": 2
}
